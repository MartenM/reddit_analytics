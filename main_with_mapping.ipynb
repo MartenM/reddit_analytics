{
 "cells": [
  {
   "cell_type": "code",
   "execution_count": 1,
   "metadata": {},
   "outputs": [],
   "source": [
    "import pandas as pd\n",
    "import numpy as np\n",
    "import networkx as nx\n",
    "\n",
    "import matplotlib.pyplot as plt\n",
    "import math as m\n",
    "\n",
    "from utility import log\n",
    "\n",
    "from networkx.algorithms import approximation\n",
    "from collections import Counter\n",
    "\n",
    "\n",
    "from scipy.sparse import csr_matrix\n",
    "\n",
    "import json\n",
    "\n"
   ]
  },
  {
   "cell_type": "markdown",
   "metadata": {},
   "source": [
    "# Preprocessing\n",
    "Before starting with the actual algorithms we need to apply some prepocessing. For example removing data that is not relevant for our research, and extracting all nodes and links."
   ]
  },
  {
   "cell_type": "code",
   "execution_count": 2,
   "metadata": {},
   "outputs": [
    {
     "name": "stdout",
     "output_type": "stream",
     "text": [
      "[14:03:20] Loading data\n"
     ]
    }
   ],
   "source": [
    "# Load the datafile\n",
    "log(\"Loading data\")\n",
    "file_path = \"data/soc-redditHyperlinks-body.tsv\"\n",
    "raw_data = pd.read_csv(file_path, sep=\"\\t\") "
   ]
  },
  {
   "cell_type": "code",
   "execution_count": 3,
   "metadata": {},
   "outputs": [
    {
     "name": "stdout",
     "output_type": "stream",
     "text": [
      "[14:03:25] Dropping\n",
      "[14:03:25] Creating list of all nodes\n",
      "[14:03:25] Nodes: 35,776 (Meta data: 35,776)\n",
      "[14:03:25] Links: 286,561\n"
     ]
    }
   ],
   "source": [
    "# Remove columns we won't be using\n",
    "log(\"Dropping\")\n",
    "data = raw_data.drop(columns=['POST_ID', 'PROPERTIES'])\n",
    "\n",
    "# Create a list of all nodes\n",
    "log(\"Creating list of all nodes\")\n",
    "nodes = pd.concat([data['SOURCE_SUBREDDIT'], data['TARGET_SUBREDDIT']], axis=0)\n",
    "nodes.drop_duplicates(inplace=True)\n",
    "\n",
    "# Load nodes metadata\n",
    "nodes_meta = pd.read_csv(\"data/subreddit_meta.csv\", index_col=0)\n",
    "nodes_meta.drop(columns=['name'], inplace=True)\n",
    "\n",
    "log(f\"Nodes: {nodes.size:,} (Meta data: {nodes_meta.shape[0]:,})\")\n",
    "log(f\"Links: {data.shape[0]:,}\")"
   ]
  },
  {
   "cell_type": "code",
   "execution_count": 16,
   "metadata": {},
   "outputs": [
    {
     "name": "stdout",
     "output_type": "stream",
     "text": [
      "       SOURCE_SUBREDDIT TARGET_SUBREDDIT  REFERENCES\n",
      "0               07scape  osrstranscripts           2\n",
      "1               0magick           occult           1\n",
      "2                 0x10c            ixion           1\n",
      "3                 0x10c    techcompliant           2\n",
      "4                 0x10c          trillek           1\n",
      "...                 ...              ...         ...\n",
      "137816        zyramains       quinnmains           1\n",
      "137817        zyramains   summonerschool           2\n",
      "137818        zyramains      threshmains           1\n",
      "137819             zyzz          fitness           1\n",
      "137820         zzseries         toontown           1\n",
      "\n",
      "[137821 rows x 3 columns]\n",
      "[14:50:32] Compressed links: 137,821\n",
      "[14:50:32] Total weight: 286561\n"
     ]
    }
   ],
   "source": [
    "# Reduce the amount of links to just one direct link.\n",
    "# This can be useful if we want a more compressed view of the data.\n",
    "links_compressed = data.drop(columns=[\"TIMESTAMP\", \"LINK_SENTIMENT\"]).groupby(['SOURCE_SUBREDDIT', 'TARGET_SUBREDDIT']).size().reset_index(name='REFERENCES')\n",
    "links_compressed = links_compressed.astype({'REFERENCES': 'long'})\n",
    "print(links_compressed)\n",
    "\n",
    "log(f\"Compressed links: {links_compressed.shape[0]:,}\")\n",
    "log(f\"Total weight: {links_compressed['REFERENCES'].sum()}\")"
   ]
  },
  {
   "cell_type": "code",
   "execution_count": 18,
   "metadata": {},
   "outputs": [
    {
     "name": "stdout",
     "output_type": "stream",
     "text": [
      "[14:53:48] Preparing nx.MultiDiGraph()...\n",
      "[14:53:48] Adding nodes...\n",
      "[14:55:44] Adding edges...\n",
      "[14:56:00] Adding compressed edges...\n"
     ]
    }
   ],
   "source": [
    "log(\"Preparing nx.MultiDiGraph()...\")\n",
    "mGraph = nx.MultiDiGraph()\n",
    "compressed_graph = nx.DiGraph()\n",
    "\n",
    "log(\"Adding nodes...\")\n",
    "for node in nodes:\n",
    "    meta_data = nodes_meta[nodes_meta['subreddit'] == node].iloc[0].to_dict()\n",
    "\n",
    "    color = \"green\"\n",
    "    if meta_data['available'] == False:\n",
    "        color = \"gray\"\n",
    "    if meta_data['nsfw'] == True:\n",
    "        color = \"red\"\n",
    "\n",
    "    mGraph.add_node(node, color=color, subscribers=meta_data['subscribers'])\n",
    "    compressed_graph.add_node(node, color=color, subscribers=meta_data['subscribers'])\n",
    "\n",
    "log(\"Adding edges...\")\n",
    "for index, edge in data.iterrows():\n",
    "    mGraph.add_edge(edge['SOURCE_SUBREDDIT'], edge['TARGET_SUBREDDIT'], sentiment=edge['LINK_SENTIMENT'])\n",
    "\n",
    "log(\"Adding compressed edges...\")\n",
    "for index, edge in links_compressed.iterrows():\n",
    "    compressed_graph.add_edge(edge['SOURCE_SUBREDDIT'], edge['TARGET_SUBREDDIT'], references=edge['REFERENCES'])\n",
    "\n",
    "# Write to graphML\n",
    "nx.write_graphml(mGraph, \"full_graph.graphml\")\n",
    "nx.write_graphml(compressed_graph, \"full_graph_compressed.graphml\")"
   ]
  },
  {
   "cell_type": "markdown",
   "metadata": {},
   "source": [
    "# Anaylsis\n",
    "This is the analysis of the network"
   ]
  },
  {
   "cell_type": "code",
   "execution_count": 25,
   "metadata": {},
   "outputs": [
    {
     "name": "stdout",
     "output_type": "stream",
     "text": [
      "[19:43:40] mGraph > Vertices: \t35,776\n",
      "[19:43:40] mGraph > Edges: \t286,561\n",
      "[19:43:40] In degree: (Most referenced subreddits)\n",
      "\\begin{tabular}{lr}\n",
      "\\toprule\n",
      "        SOURCE &  degree \\\\\n",
      "\\midrule\n",
      "     askreddit &    7329 \\\\\n",
      "          iama &    3694 \\\\\n",
      "          pics &    2779 \\\\\n",
      "writingprompts &    2490 \\\\\n",
      "        videos &    2446 \\\\\n",
      "\\bottomrule\n",
      "\\end{tabular}\n",
      "\n",
      "[19:43:40] Out degree: (Referencing other subreddits)\n",
      "\\begin{tabular}{lr}\n",
      "\\toprule\n",
      "         SOURCE &  degree \\\\\n",
      "\\midrule\n",
      " subredditdrama &    4665 \\\\\n",
      "    circlebroke &    2358 \\\\\n",
      "shitliberalssay &    1968 \\\\\n",
      "   outoftheloop &    1958 \\\\\n",
      "      copypasta &    1824 \\\\\n",
      "\\bottomrule\n",
      "\\end{tabular}\n",
      "\n",
      "Creating histogram...\n"
     ]
    },
    {
     "name": "stderr",
     "output_type": "stream",
     "text": [
      "C:\\Users\\marte\\AppData\\Local\\Temp\\ipykernel_20360\\1333096147.py:11: FutureWarning: In future versions `DataFrame.to_latex` is expected to utilise the base implementation of `Styler.to_latex` for formatting and rendering. The arguments signature may therefore change. It is recommended instead to use `DataFrame.style.to_latex` which also contains additional functionality.\n",
      "  print(in_degree.head(5).to_latex(index=False))\n",
      "C:\\Users\\marte\\AppData\\Local\\Temp\\ipykernel_20360\\1333096147.py:14: FutureWarning: In future versions `DataFrame.to_latex` is expected to utilise the base implementation of `Styler.to_latex` for formatting and rendering. The arguments signature may therefore change. It is recommended instead to use `DataFrame.style.to_latex` which also contains additional functionality.\n",
      "  print(out_degree.head(5).to_latex(index=False))\n"
     ]
    },
    {
     "data": {
      "text/plain": [
       "[<matplotlib.lines.Line2D at 0x28417fcb790>]"
      ]
     },
     "execution_count": 25,
     "metadata": {},
     "output_type": "execute_result"
    },
    {
     "data": {
      "image/png": "[encoded data removed]",
      "text/plain": [
       "<Figure size 640x480 with 1 Axes>"
      ]
     },
     "metadata": {},
     "output_type": "display_data"
    }
   ],
   "source": [
    "log(f\"mGraph > Vertices: \\t{mGraph.number_of_nodes():,}\")\n",
    "log(f\"mGraph > Edges: \\t{mGraph.number_of_edges():,}\")\n",
    "\n",
    "in_degree = pd.DataFrame(mGraph.in_degree(), columns=['SOURCE', 'degree'])\n",
    "out_degree = pd.DataFrame(mGraph.out_degree(), columns=['SOURCE', 'degree'])\n",
    "\n",
    "in_degree.sort_values('degree', ascending=False, inplace=True)\n",
    "out_degree.sort_values('degree', ascending=False, inplace=True)\n",
    "\n",
    "log(\"In degree: (Most referenced subreddits)\")\n",
    "print(in_degree.head(5).to_latex(index=False))\n",
    "\n",
    "log(\"Out degree: (Referencing other subreddits)\")\n",
    "print(out_degree.head(5).to_latex(index=False))\n",
    "\n",
    "def plot_degree_histogram(g, normalized=True):\n",
    "    print(\"Creating histogram...\")\n",
    "    aux_y = nx.degree_histogram(g)\n",
    "    \n",
    "    aux_x = np.arange(0,len(aux_y)).tolist()\n",
    "    \n",
    "    n_nodes = g.number_of_nodes()\n",
    "    \n",
    "    if normalized:\n",
    "        for i in range(len(aux_y)):\n",
    "            aux_y[i] = aux_y[i]/n_nodes\n",
    "    \n",
    "    return aux_x, aux_y\n",
    "\n",
    "def in_degree_plot(G):\n",
    "    in_degrees = dict(G.in_degree())\n",
    "    in_degree_values = list(in_degrees.values())\n",
    "\n",
    "    # Plot the in-degree distribution\n",
    "    plt.hist(in_degree_values, bins=range(0, max(in_degree_values) + 1), density=True, alpha=0.75)\n",
    "    plt.xlabel('In-Degree')\n",
    "    plt.ylabel('Frequency')\n",
    "    plt.title('In-Degree Distribution')\n",
    "    plt.grid(True)\n",
    "    plt.show()\n",
    "\n",
    "# plt.title('\\nDistribution Of Node Linkages (log-log scale)')\n",
    "# plt.xlabel('Degree\\n(log scale)')\n",
    "# plt.ylabel('Number of Nodes\\n(log scale)')\n",
    "# plt.xscale(\"log\")\n",
    "# plt.yscale(\"log\")\n",
    "# [aux_x, aux_y] = plot_degree_histogram(mGraph)\n",
    "# plt.plot(aux_x, aux_y, 'o')\n",
    "in_degree_plot(mGraph)"
   ]
  },
  {
   "cell_type": "markdown",
   "metadata": {},
   "source": [
    "Calculation of centrality indices: Degree Centrality, Betweenness Centrality, Closeness Centrality and Eigenvector Centrality"
   ]
  },
  {
   "cell_type": "code",
   "execution_count": 19,
   "metadata": {},
   "outputs": [
    {
     "name": "stdout",
     "output_type": "stream",
     "text": [
      "[19:15:43] Total Degree-centrality:\n",
      "\\begin{tabular}{lrrr}\n",
      "\\toprule\n",
      "        SOURCE &  degree\\_in &  degree\\_out &  total\\_degree\\_centrality \\\\\n",
      "\\midrule\n",
      "     askreddit &       7329 &        1338 &                     8667 \\\\\n",
      "          iama &       3694 &        1181 &                     4875 \\\\\n",
      "          pics &       2779 &           4 &                     2783 \\\\\n",
      "writingprompts &       2490 &        1707 &                     4197 \\\\\n",
      "        videos &       2446 &           4 &                     2450 \\\\\n",
      "\\bottomrule\n",
      "\\end{tabular}\n",
      "\n"
     ]
    },
    {
     "name": "stderr",
     "output_type": "stream",
     "text": [
      "C:\\Users\\marte\\AppData\\Local\\Temp\\ipykernel_20360\\1863884375.py:8: FutureWarning: In future versions `DataFrame.to_latex` is expected to utilise the base implementation of `Styler.to_latex` for formatting and rendering. The arguments signature may therefore change. It is recommended instead to use `DataFrame.style.to_latex` which also contains additional functionality.\n",
      "  print(total_degree.head(5).to_latex(index=False))\n"
     ]
    },
    {
     "name": "stdout",
     "output_type": "stream",
     "text": [
      "[19:16:45] Betweenness Centrality: (Influence of node in graph)\n",
      "\\begin{tabular}{lr}\n",
      "\\toprule\n",
      "         SOURCE &  betweenness\\_centrality \\\\\n",
      "\\midrule\n",
      "      askreddit &                0.062942 \\\\\n",
      " subredditdrama &                0.053255 \\\\\n",
      "           iama &                0.039102 \\\\\n",
      "   outoftheloop &                0.033549 \\\\\n",
      "leagueoflegends &                0.020587 \\\\\n",
      "\\bottomrule\n",
      "\\end{tabular}\n",
      "\n"
     ]
    },
    {
     "name": "stderr",
     "output_type": "stream",
     "text": [
      "C:\\Users\\marte\\AppData\\Local\\Temp\\ipykernel_20360\\1863884375.py:32: FutureWarning: In future versions `DataFrame.to_latex` is expected to utilise the base implementation of `Styler.to_latex` for formatting and rendering. The arguments signature may therefore change. It is recommended instead to use `DataFrame.style.to_latex` which also contains additional functionality.\n",
      "  print(betweenness_centrality.head(5).to_latex(index=False))\n"
     ]
    },
    {
     "name": "stdout",
     "output_type": "stream",
     "text": [
      "Total Nodes after Pruning: 314\n",
      "Total Edges after Pruning: 56691\n",
      "[19:16:48] Top 5 Nodes by Eigenvector Centrality:\n"
     ]
    },
    {
     "name": "stderr",
     "output_type": "stream",
     "text": [
      "C:\\Users\\marte\\AppData\\Local\\Temp\\ipykernel_20360\\1863884375.py:69: FutureWarning: In future versions `DataFrame.to_latex` is expected to utilise the base implementation of `Styler.to_latex` for formatting and rendering. The arguments signature may therefore change. It is recommended instead to use `DataFrame.style.to_latex` which also contains additional functionality.\n",
      "  print(eigenvector_centrality.head(5).to_latex(index=False))\n"
     ]
    },
    {
     "name": "stdout",
     "output_type": "stream",
     "text": [
      "\\begin{tabular}{lr}\n",
      "\\toprule\n",
      "        SOURCE &  eigenvector\\_centrality \\\\\n",
      "\\midrule\n",
      "      buildapc &                0.690689 \\\\\n",
      "   techsupport &                0.603486 \\\\\n",
      " buildapcforme &                0.254779 \\\\\n",
      "     windows10 &                0.135070 \\\\\n",
      "subredditdrama &                0.101864 \\\\\n",
      "\\bottomrule\n",
      "\\end{tabular}\n",
      "\n",
      "[19:17:45] Top 5 Nodes by Closeness Centrality:\n",
      "\\begin{tabular}{lr}\n",
      "\\toprule\n",
      "       SOURCE &  closeness\\_centrality \\\\\n",
      "\\midrule\n",
      "    askreddit &              0.313944 \\\\\n",
      "         iama &              0.304565 \\\\\n",
      "       videos &              0.287835 \\\\\n",
      "         pics &              0.282841 \\\\\n",
      "todayilearned &              0.281916 \\\\\n",
      "\\bottomrule\n",
      "\\end{tabular}\n",
      "\n"
     ]
    },
    {
     "name": "stderr",
     "output_type": "stream",
     "text": [
      "C:\\Users\\marte\\AppData\\Local\\Temp\\ipykernel_20360\\1863884375.py:96: FutureWarning: In future versions `DataFrame.to_latex` is expected to utilise the base implementation of `Styler.to_latex` for formatting and rendering. The arguments signature may therefore change. It is recommended instead to use `DataFrame.style.to_latex` which also contains additional functionality.\n",
      "  print(closeness_centrality.head(5).to_latex(index=False))\n"
     ]
    }
   ],
   "source": [
    "# Calculate (In/Out)-Degree centrality (in and out degree)\n",
    "total_degree = in_degree.merge(out_degree, on='SOURCE', suffixes=('_in', '_out'))\n",
    "total_degree['total_degree_centrality'] = total_degree['degree_in'] + total_degree['degree_out']\n",
    "total_degree_centrality = total_degree.sort_values('total_degree_centrality', ascending=False)\n",
    "\n",
    "\n",
    "log(\"Total Degree-centrality:\")\n",
    "print(total_degree.head(5).to_latex(index=False))\n",
    "\n",
    "\n",
    "# Prune low connectivity nodes to speed up the computation of certain properties of the graph\n",
    "def prune_nodes(G):\n",
    "    threshold = 300\n",
    "    graph_copy = G.copy()\n",
    "    nodes_to_remove = total_degree_centrality[total_degree_centrality['total_degree_centrality'] < threshold]['SOURCE'].tolist()\n",
    "    graph_copy.remove_nodes_from(nodes_to_remove)\n",
    "    total_nodes = graph_copy.number_of_nodes()\n",
    "    total_edges = graph_copy.number_of_edges()\n",
    "    print(f\"Total Nodes after Pruning: {total_nodes}\")\n",
    "    print(f\"Total Edges after Pruning: {total_edges}\")\n",
    "    return graph_copy\n",
    "\n",
    "# Calculate betweenness centrality using an approximation measure for time reasons\n",
    "# If we calculate betweenness centrality for k=n then it will take too much (we can use a sample of k nodes)\n",
    "\n",
    "betweennes_calculation = nx.betweenness_centrality(mGraph, k = 100, weight = 'LINK_SENTIMENT')\n",
    "betweenness_centrality = pd.DataFrame(betweennes_calculation.items(), columns=['SOURCE', 'betweenness_centrality'])\n",
    "\n",
    "betweenness_centrality = betweenness_centrality.sort_values('betweenness_centrality', ascending=False)\n",
    "\n",
    "log(\"Betweenness Centrality: (Influence of node in graph)\")\n",
    "print(betweenness_centrality.head(5).to_latex(index=False))\n",
    "\n",
    "\n",
    "# Calculate eigenvector centrality. We need a function\n",
    "# which does that for multiGraph instead of singleGraph\n",
    "# Used the same start parameters (mat_iter and tol) as NetworkX\n",
    "def m_eigenvector_centrality(G, max_iter=100, tol=1e-6):\n",
    "    # Prune some nodes of the matrix otherwise my PC crashes!\n",
    "    G_copy = prune_nodes(G)\n",
    "    # Make an adjacency matrix\n",
    "    adjacency_matrix = csr_matrix(nx.adjacency_matrix(G_copy))\n",
    "\n",
    "    # Array to save eigenvector centrality for each node\n",
    "    num_nodes = len(G_copy.nodes())\n",
    "    eigenvector = np.full(num_nodes, 1.0 / num_nodes)\n",
    "\n",
    "    for _ in range(max_iter):\n",
    "        # Calculate the matrix-vector product\n",
    "        new_eigenvector = np.dot(adjacency_matrix.toarray(), eigenvector)\n",
    "\n",
    "        # Normalize\n",
    "        norm = np.linalg.norm(new_eigenvector)\n",
    "        new_eigenvector = new_eigenvector / norm\n",
    "\n",
    "        # Repeat until convergence (or max_iter)\n",
    "        if np.linalg.norm(new_eigenvector - eigenvector) < tol:\n",
    "            return dict(zip(G_copy.nodes(), new_eigenvector))\n",
    "\n",
    "        eigenvector = new_eigenvector\n",
    "\n",
    "    return dict(zip(G_copy.nodes(), eigenvector))\n",
    "\n",
    "eigenvector_calculation = m_eigenvector_centrality(mGraph)\n",
    "eigenvector_centrality = pd.DataFrame(eigenvector_calculation.items(), columns=['SOURCE', 'eigenvector_centrality'])\n",
    "eigenvector_centrality = eigenvector_centrality.sort_values('eigenvector_centrality', ascending=False)\n",
    "\n",
    "log(\"Top 5 Nodes by Eigenvector Centrality:\")\n",
    "print(eigenvector_centrality.head(5).to_latex(index=False))\n",
    "\n",
    "# Use a subset of nodes to calculate closeness centrality for. The subset is chosen as\n",
    "# the combination of other centrality values\n",
    "combined_centrality = total_degree_centrality.merge(betweenness_centrality, on='SOURCE')\n",
    "combined_centrality = combined_centrality.merge(eigenvector_centrality, on='SOURCE')\n",
    "\n",
    "# Just sum the values\n",
    "combined_centrality['combined_centrality'] = (\n",
    "    combined_centrality['total_degree_centrality'] +\n",
    "    combined_centrality['betweenness_centrality'] +\n",
    "    combined_centrality['eigenvector_centrality']\n",
    ")\n",
    "\n",
    "combined_centrality = combined_centrality.sort_values('combined_centrality', ascending=False)\n",
    "# Select the top 20\n",
    "top_nodes = combined_centrality.head(20)\n",
    "top_nodes_list = top_nodes['SOURCE'].tolist()\n",
    "\n",
    "closeness_centrality_calc = {}\n",
    "\n",
    "for node in top_nodes_list:\n",
    "    closeness_centrality_calc[node] = nx.closeness_centrality(mGraph, u=node)\n",
    "closeness_centrality = pd.DataFrame(closeness_centrality_calc.items(), columns=['SOURCE', 'closeness_centrality'])\n",
    "closeness_centrality = closeness_centrality.sort_values('closeness_centrality', ascending=False)\n",
    "\n",
    "log(\"Top 5 Nodes by Closeness Centrality:\")\n",
    "print(closeness_centrality.head(5).to_latex(index=False))"
   ]
  },
  {
   "cell_type": "markdown",
   "metadata": {},
   "source": [
    "Calculation of Clustering Coefficient"
   ]
  },
  {
   "cell_type": "code",
   "execution_count": 29,
   "metadata": {},
   "outputs": [
    {
     "name": "stdout",
     "output_type": "stream",
     "text": [
      "[12:01:43] Number of nodes with a clustering coefficient = 1:\n",
      "1498\n"
     ]
    }
   ],
   "source": [
    "# As before, we need to make our own function since\n",
    "# networkX does not work for MultiDiGraphs\n",
    "def f_clustering_coefficient(G, node):\n",
    "    # Get the neighbors of the given node\n",
    "    neighbors = set(G.neighbors(node))\n",
    "\n",
    "    # If there are no neighbors then return 0\n",
    "    if len(neighbors) < 2:\n",
    "        return 0.0\n",
    "\n",
    "    # Find the number of edges between neighbors\n",
    "    edges_between_neighbors = 0\n",
    "\n",
    "    for u in neighbors:\n",
    "        for v in neighbors:\n",
    "            if u != v and G.has_edge(u, v):\n",
    "                # Usually edge weights are not considered, hence we just add +1\n",
    "                edges_between_neighbors += 1\n",
    "\n",
    "    # Calculate the clustering coefficient\n",
    "    clustering_coefficient = edges_between_neighbors / (len(neighbors) * (len(neighbors) - 1))\n",
    "    return clustering_coefficient\n",
    "\n",
    "\n",
    "clustering_coefficient_calc = {}\n",
    "for node in mGraph.nodes():\n",
    "    clustering_coefficient_calc[node] = f_clustering_coefficient(mGraph, node)\n",
    "\n",
    "clustering_coefficient = pd.DataFrame(clustering_coefficient_calc.items(), columns=['SOURCE', 'clustering_coefficient'])\n",
    "count_of_ones = len(clustering_coefficient[clustering_coefficient['clustering_coefficient'] == 1])\n",
    "\n",
    "# 1 is the highest clustering coefficient value\n",
    "log(\"Number of nodes with a clustering coefficient = 1:\")\n",
    "print(count_of_ones)\n"
   ]
  },
  {
   "cell_type": "markdown",
   "metadata": {},
   "source": [
    "Network Diameter + Number of Connected Components + Size of connected components + Density"
   ]
  },
  {
   "cell_type": "code",
   "execution_count": 12,
   "metadata": {},
   "outputs": [
    {
     "name": "stdout",
     "output_type": "stream",
     "text": [
      "[11:07:58] Number of Strongly Connected Components:\n",
      "24071\n",
      "[11:07:58] Top 5 Strongly Connected Components by size:\n",
      "Component 1: Size = 11564 nodes\n",
      "Component 2: Size = 6 nodes\n",
      "Component 3: Size = 5 nodes\n",
      "Component 4: Size = 4 nodes\n",
      "Component 5: Size = 4 nodes\n",
      "[11:07:58] The density of the Graph is\n",
      "0.00022389565198911403\n",
      "[11:08:02] Diameter approximation of largest SCC:\n",
      "12\n"
     ]
    }
   ],
   "source": [
    "strongly_connected_components = list(nx.strongly_connected_components(mGraph))\n",
    "component_sizes = [len(component) for component in strongly_connected_components]\n",
    "sorted_sizes = sorted(component_sizes, reverse=True)\n",
    "\n",
    "log(\"Number of Strongly Connected Components:\")\n",
    "total_Scc = len(strongly_connected_components)\n",
    "print(total_Scc)\n",
    "log(\"Top 5 Strongly Connected Components by size:\")\n",
    "for i, size in enumerate(sorted_sizes[:5], start=1):\n",
    "    print(f\"Component {i}: Size = {size} nodes\")\n",
    "\n",
    "density = nx.density(mGraph)\n",
    "log(\"The density of the Graph is\")\n",
    "print(density)\n",
    "\n",
    "# Calculate diameter only for the biggest SCC\n",
    "largest_scc = max(strongly_connected_components, key=len)\n",
    "largest_scc_subgraph = mGraph.subgraph(largest_scc)\n",
    "# diameter = nx.diameter(largest_scc_subgraph, weight=\"weight\", usebounds=True)\n",
    "diameter = approximation.diameter(largest_scc_subgraph)\n",
    "\n",
    "log(\"Diameter approximation of largest SCC:\")\n",
    "print(diameter)"
   ]
  },
  {
   "cell_type": "markdown",
   "metadata": {},
   "source": [
    "Find Cliques "
   ]
  },
  {
   "cell_type": "code",
   "execution_count": 10,
   "metadata": {},
   "outputs": [
    {
     "name": "stdout",
     "output_type": "stream",
     "text": [
      "Largest Clique 1, Length 33: ['greenbaypackers', 'seahawks', '49ers', 'ravens', 'azcardinals', 'nfl', 'panthers', 'oaklandraiders', 'texans', 'bengals', 'colts', 'steelers', 'eagles', 'buffalobills', 'chibears', 'nfl_draft', 'falcons', 'browns', 'denverbroncos', 'cowboys', 'kansascitychiefs', 'saints', 'jaguars', 'nyjets', 'chargers', 'redskins', 'detroitlions', 'buccaneers', 'miamidolphins', 'nygiants', 'minnesotavikings', 'losangelesrams', 'patriots']\n",
      "Largest Clique 2, Length 33: ['greenbaypackers', 'seahawks', '49ers', 'ravens', 'azcardinals', 'nfl', 'panthers', 'oaklandraiders', 'texans', 'bengals', 'colts', 'steelers', 'eagles', 'buffalobills', 'chibears', 'nfl_draft', 'falcons', 'browns', 'denverbroncos', 'cowboys', 'kansascitychiefs', 'saints', 'jaguars', 'nyjets', 'chargers', 'redskins', 'detroitlions', 'buccaneers', 'miamidolphins', 'nygiants', 'minnesotavikings', 'losangelesrams', 'tennesseetitans']\n",
      "Largest Clique 3, Length 10: ['mbotandgtron', 'nomina', 'cqb', 'pears', 'killlakill', 'iupui', 'thewire', 'nvidiashield', 'pmmodi', 'vmware']\n",
      "Largest Clique 4, Length 10: ['raisedbynarcissists', 'suicidewatch', 'legaladvice', 'depression', 'anxiety', 'relationship_advice', 'self', 'offmychest', 'relationships', 'advice']\n",
      "Largest Clique 5, Length 9: ['raisedbynarcissists', 'askreddit', 'offmychest', 'relationships', 'advice', 'relationship_advice', 'legaladvice', 'self', 'anxiety']\n"
     ]
    }
   ],
   "source": [
    "# Convert to undirected graph. Explanation to why this is fine (https://stackoverflow.com/questions/12896477/cliques-for-directed-graphs-in-igraph)\n",
    "undirected_graph = nx.Graph()\n",
    "\n",
    "# Add an edge (u,v) in the undirected graph iff in our multidigraph we have\n",
    "# (u,v) and (v,u)\n",
    "for u, v in mGraph.edges():\n",
    "    # Check if there is an edge (v, u) in the MultiDiGraph\n",
    "    if mGraph.has_edge(v, u):\n",
    "        undirected_graph.add_edge(u, v)\n",
    "\n",
    "cliques = list(nx.find_cliques(undirected_graph))\n",
    "\n",
    "sorted_cliques = sorted(cliques, key=lambda x: len(x), reverse=True)\n",
    "\n",
    "# Print the 5 largest cliques\n",
    "for i, clique in enumerate(sorted_cliques[:5], start=1):\n",
    "    print(f\"Largest Clique {i}, Length {len(clique)}: {clique}\")"
   ]
  },
  {
   "cell_type": "markdown",
   "metadata": {},
   "source": [
    "Run homophily test with NSFW and SFW subreddits (not done yet)"
   ]
  },
  {
   "cell_type": "code",
   "execution_count": 31,
   "metadata": {},
   "outputs": [
    {
     "name": "stdout",
     "output_type": "stream",
     "text": [
      "[13:52:00] Homophily 'score':\n",
      "0.7263466594893151\n"
     ]
    }
   ],
   "source": [
    "# Open the JSON file for reading\n",
    "with open(\"subs.json\", \"r\") as json_file:\n",
    "    # Load the JSON data from the file\n",
    "    data = json.load(json_file)\n",
    "\n",
    "# Extract all the names into a list\n",
    "nsfw_subs = list(data.keys())\n",
    "nsfw_Graph = mGraph.copy()\n",
    "# Create dictionary\n",
    "nsfw_subs_dict = {name: True for name in nsfw_subs}\n",
    "nsfw_count = 0\n",
    "sfw_count = 0\n",
    "for node in mGraph.nodes:\n",
    "    if node in nsfw_subs_dict:\n",
    "        nsfw_count += 1\n",
    "        mGraph.nodes[node][\"nsfw\"] = True \n",
    "    else:\n",
    "        sfw_count += 1\n",
    "        mGraph.nodes[node][\"nsfw\"] = False  \n",
    "\n",
    "total_nodes = nsfw_count + sfw_count\n",
    "# Probability to have an edge between SFW and NSFW subreddits\n",
    "edge_probability = 2*(nsfw_count/total_nodes)*(sfw_count/total_nodes)\n",
    "\n",
    "# Calculate number of edges between SFW and NSFW\n",
    "nsfw_to_sfw_edges = 0\n",
    "sfw_to_nsfw_edges = 0\n",
    "total_edges = 0\n",
    "for edge in mGraph.edges:\n",
    "    total_edges += 1\n",
    "    source_node, target_node, _ = edge\n",
    "\n",
    "    # Check the \"nsfw\" attribute of the source and target nodes\n",
    "    source_nsfw = mGraph.nodes[source_node].get(\"nsfw\", False)\n",
    "    target_nsfw = mGraph.nodes[target_node].get(\"nsfw\", False)\n",
    "\n",
    "    # Count the edge based on the node attributes\n",
    "    if source_nsfw and not target_nsfw:\n",
    "        nsfw_to_sfw_edges += 1\n",
    "    elif not source_nsfw and target_nsfw:\n",
    "        sfw_to_nsfw_edges += 1\n",
    "\n",
    "nsfw_to_sfw_ratio = (nsfw_to_sfw_edges + sfw_to_nsfw_edges)/total_edges\n",
    "\n",
    "# Basically the ratio of number of NSFW-SFW edges to the expected number of those.\n",
    "# The lower the ratio the higher homophily between the groups\n",
    "log(\"Homophily 'score':\")\n",
    "print(nsfw_to_sfw_ratio/edge_probability)"
   ]
  },
  {
   "cell_type": "markdown",
   "metadata": {},
   "source": [
    "Important nodes acting as Bridges. Calculation for MultiDiGraph (Paper: https://core.ac.uk/reader/82453490) "
   ]
  },
  {
   "cell_type": "code",
   "execution_count": 27,
   "metadata": {},
   "outputs": [
    {
     "name": "stdout",
     "output_type": "stream",
     "text": [
      "Total Nodes after Pruning: 314\n",
      "Total Edges after Pruning: 56691\n",
      "Processed 0 edges\n",
      "Processed 5000 edges\n",
      "Processed 10000 edges\n",
      "Processed 15000 edges\n",
      "Processed 20000 edges\n",
      "Processed 25000 edges\n",
      "Processed 30000 edges\n",
      "Processed 35000 edges\n",
      "Processed 40000 edges\n",
      "Processed 45000 edges\n",
      "Processed 50000 edges\n",
      "Processed 55000 edges\n",
      "[('footballhighlights', 'soccer'), ('gifs', 'resissues'), ('pics', 'changelog'), ('ironthronepowers', 'bugs'), ('modelusgov', 'mhoc')]\n",
      "Top 5 Nodes in Bridge Edges:\n",
      "Node: footballhighlights, Count: 1\n",
      "Node: soccer, Count: 1\n",
      "Node: gifs, Count: 1\n",
      "Node: resissues, Count: 1\n",
      "Node: pics, Count: 1\n"
     ]
    }
   ],
   "source": [
    "# We say that a bridge in a Graph is a strong bridge if removing it\n",
    "# increases the number of SCC (ref: paper above)\n",
    "\n",
    "def find_bridges(G):\n",
    "    bridges = []\n",
    "\n",
    "    total_scc = len(list(nx.strongly_connected_components(G)))\n",
    "    graph_copy = G.copy()\n",
    "    count = 0\n",
    "    for u, v in G.edges():\n",
    "        if count % 5000 == 0:\n",
    "            print(f\"Processed {count} edges\")\n",
    "        count += 1\n",
    "        # Temporarily remove the edge (u, v)\n",
    "        graph_copy.remove_edge(u, v)\n",
    "        new_scc_count = len(list(nx.strongly_connected_components(graph_copy)))\n",
    "\n",
    "        # If the number of new SCC < original SCC then the edge is bridge\n",
    "        if new_scc_count > total_scc:\n",
    "            bridges.append((u, v))\n",
    "\n",
    "        # Restore edge (u, v)\n",
    "        graph_copy.add_edge(u, v)\n",
    "    return bridges\n",
    "\n",
    "# Find bridge edges in the undirected graph\n",
    "bridge_edges = list(find_bridges(prune_nodes(mGraph)))\n",
    "print(bridge_edges)\n",
    "bridge_nodes = [node for edge in bridge_edges for node in edge]\n",
    "\n",
    "# Count the occurrences of each node\n",
    "top_nodes = Counter(bridge_nodes)\n",
    "\n",
    "# Get the top 5 nodes with the highest counts\n",
    "top_nodes = top_nodes.most_common(5)\n",
    "\n",
    "# Print the top 5 nodes\n",
    "print(\"Top 5 Nodes in Bridge Edges:\")\n",
    "for node, count in top_nodes:\n",
    "    print(f\"Node: {node}, Count: {count}\")"
   ]
  },
  {
   "cell_type": "markdown",
   "metadata": {},
   "source": [
    "Important nodes acting as Bridges. Calculation for Undirected graph"
   ]
  },
  {
   "cell_type": "code",
   "execution_count": 28,
   "metadata": {},
   "outputs": [
    {
     "name": "stdout",
     "output_type": "stream",
     "text": [
      "Top 5 Nodes in Bridge Edges (undirected graphs):\n",
      "Node: askreddit, Count: 291\n",
      "Node: writingprompts, Count: 188\n",
      "Node: tipofmypenis, Count: 188\n",
      "Node: iama, Count: 183\n",
      "Node: mhoc, Count: 133\n"
     ]
    }
   ],
   "source": [
    "simple_graph = mGraph.to_undirected()\n",
    "\n",
    "# Find bridge edges in the undirected graph\n",
    "bridge_edges = list(nx.bridges(simple_graph))\n",
    "\n",
    "bridge_nodes = [node for edge in bridge_edges for node in edge]\n",
    "\n",
    "# Count the occurrences of each node\n",
    "top_nodes = Counter(bridge_nodes)\n",
    "\n",
    "# Get the top 5 nodes with the highest counts\n",
    "top_nodes = top_nodes.most_common(5)\n",
    "\n",
    "# Print the top 5 nodes\n",
    "print(\"Top 5 Nodes in Bridge Edges (undirected graphs):\")\n",
    "for node, count in top_nodes:\n",
    "    print(f\"Node: {node}, Count: {count}\")"
   ]
  },
  {
   "cell_type": "markdown",
   "metadata": {},
   "source": [
    "Implement Louvain (alternative to Girvan-Newman) algorithm "
   ]
  },
  {
   "cell_type": "code",
   "execution_count": 37,
   "metadata": {},
   "outputs": [
    {
     "name": "stdout",
     "output_type": "stream",
     "text": [
      "[15:03:32] Top 5 communities by size identified by Louvain method:\n",
      "Community 1: Size = 4081\n",
      "   Nodes: {'captainhair59', 'scihi', 'askscience', 'hiredgoonz', 'velabasstuff', 'thedynastyproject', 'camerasbeingbros', 'titlebitching', 'jukmifgguggh', 'lammy', 'thoughtfactory', 'coloringcorruptions', 'shooting_stars', 'peoplelinkingtosubs', 'ideasfortifu', 'myexgirlfriend', 'crappydesign', 'linguistics', 'drawmynightmare', 'storiesfromsilhouette', 'controllablewebcams', 'labrats', 'avitus', 'curiousvideos', 'ghotioninabarrel', 'asmr', 'benedictcumberbatch', 'petnames', 'cringepics', 'birthdaybuds', 'ytpl', 'messingwithreporters', 'aircrack', 'secretsubgonewild', 'ringtones', 'thenauticaltroupe', 'infrastructureporn', 'tributeme', 'alcoholism_medication', 'allisforgiven', 'fakehistory', 'hahayeah', 'thedearhunter', 'westies', 'lurkershares', 'white_lupin', 'adviceanimals', 'parallelview', 'theculture', 'racisttwitterhumor', 'highqualitygifs', 'hoedown', 'cringe', 'chardeemacdennis', 'sebastianlalaurette', 'teenhangouts', 'scarybusey', 'savedyouaclick', 'corgis', 'ashens', '6773writing', 'psn', 'askpopculture', 'misc', 'fabulousferds', 'geladobubblegum', 'factories', 'shittytodayilearned', 'celebrityarmpits', 'kitesofpineapple', 'jaysonsama', 'queerconlangers', 'limericks', 'storyofseasons', 'unpopularopinion', 'shitamericanssay', 'karmacourt', 'hkridc', 'pingu', 'dollhouse', 'navysealcopypasta', 'miraclesoflife', 'iresearchreporter', 'ggplay', 'unbgbbiivchidctiicbg', 'shipporn', 'bloodformercy', 'morbiusgreen', 'woahdude', 'phimosis', 'gaming', 'mockkarmacourt', 'selfharmpics', 'nothingheremovealong', 'idubbbz', 'retrogifs', 'website_mirror_bot', 'chairmanpao', 'pennystocktrading', 'theyplotoninaflash', 'superherothongshots', 'throneofliesgame', 'japanesegameshows', 'outernet', 'monsterrancher', 'glitch_art', 'rationalizemyview', 'solve_strawmen', 'chadatha', 'maisieklaassen', 'android_apps', 'stop', 'uwotm8', 'comedywriting', 'ask_political_science', 'kairuofwriting', 'bitvid', 'shittylifeprotips', 'frogsandtoads', 'naimkabir', 'roastmyjoke', 'poopsacks', 'rebuttaltime', 'sobsz', 'a_squatch', 'dailyredditreport', 'shittyama', 'hmplantsthebigone', 'brooklynninenine', '100yearclub', 'astronomy', 'dogshowerthoughts', 'adulteducation', 'beejsterb', 'corgigifs', 'lakefrontproperty', 'gerd', 'unexpectedatla', 'elir', 'chinchilladave', 'paranormal', 'ysenia', 'indoclone', 'quietheroes', 'blackpeoplegifs', 'sixwordstories', 'gethighandwrite', 'birdshitart', 'travelhacks', 'wewereallthinkingit', 'dirtandponcho', 'kancolle', 'lh_wvp', 'tackle_depression', 'picklestasteg00d', 'antijokes', 'corncobwrites', 'retroparents', 'meteorology', 'hubtown', 'highqualityreviews', 'playstrandeddeep', 'iamveryculinary', 'create_a_story', 'politicalautism', 'phrasing', 'euph', 'fruit', 'dartstalk', 'shestillsucking', 'ipfw', 'substhatshouldexist', 'writerscraft', 'ghosts', 'hashbakchodi', 'holdmywine', 'iamverystupid', 'actuallifehacks', 'legion_profligate', 'circlebrokediscussion', 'skinwalkers', 'coniform', 'tamrinm', 'nosleep_oneshot', 'nolettere', 'speculativeevolution', 'onthemenu', 'redditthroughhistory', 'iamshark', 'trollstationone', 'lanadelrey', 'funny', 'simpleplanes', 'malegrouptherapy', 'gifsofotters', 'finlandconspiracy', 'trwn', 'pianomastr64', 'selfstimulation', 'eyefreshener', 'grav3yardgirl', 'purephysics', 'dendritestories', 'whitecollar', 'theydidtheacronym', 'ralphthemoviemaker', 'shialabeouf', 'onehundredups', 'notoclockers', 'futurewhatif', 'howdoipronouncethis', 'anticreepypms', 'scp', 'it_fan_starwars', 'thenamelessman', 'nicetryprguy', 'shittylifehacks', 'fascinating', 'subredditstockmarket', 'explainlikeyourefive', 'venezuelancrisis', 'eabresearchtests', 'mainindia', 'comics', 'explainlikeiama', 'rekt', 'goldredditsays', 'manna', 'skyrat02', 'lookatthis', 'fencesitter', 'animalsbeingjerks', 'unexpectedjohn', 'liulfr', 'redditlaughs', 'asksciencediscussion', 'cromulentwords', 'homeopathy', 'newsoftheweird', 'heimerdangus', 'arcadehero', 'militaryconspiracy', 'tyt', 'bttf', 'wwhif', 'ethancordn', 'viz0r', 'unexpectedthugrequest', 'labview', 'girlfartstories', 'hellointernet', 'captionplease', 'historystudents', 'hudsonvalley', 'frustration', 'watdeekhrapwriting', 'yesyesyesyesno', 'shadowofmordor', 'srsjews', 'intresseklubben', 'neebsgaming', 'rickykarlandstephen', 'feedmequickwriting', 'morbidreality', 'beamazed', 'mountainwisdom', 'robertmize', 'dogman', 'upgradehacks', 'kathiana', 'collinsbeach', 'youseecomrade', 'aliensamongus', 'nvadergir', 'deepfriedmemes', 'couldyoupleasehelp', 'spaceexploration', 'submechanophobia', 'guhikenite', 'continuityporn', 'getnarwhal', 'norse', 'gwbooks', 'scfavss', 'habbo', 'writerhorrible', 'environment', 'toiletbrittle', 'couples', 'shitcosmosays', 'heav3nly', 'spacewalls', 'portlandia', 'buitenspelen', 'imhigh', 'toontown2', 'nononono', 'totalwararena', 'letsburn00swriting', 'doesanybodyelse', 'spiderbites', 'houseambaret', 'tiwafb', 'childfree', 'sodsuits', 'ask', 'exwithalemonadestand', 'etymologymaps', 'gunnybear', 'ausguns', 'karma42', 'apocolyptictodd', 'thechapel', 'chemistryhomework', 'normalideas', 'frogs', 'ghettoequivalence', 'abcqwerty123mods', 'ideasforcirclejerk', 'nickkuvaas', 'wpcss', 'googleappsscript', 'todayilearned', 'oldnews', 'bannablesubreddits', 'infinitejest', 'artnews', 'discussthetpp', 'viewaskew', 'agricultureporn', 'dads', 'explainlikeimtrump', 'onetrueuncle', 'kaikaikaicult', 'scishq', 'madmodmail', 'brainhealingdiet', 'gameflysocial', 'farts', 'selfcontrol', 'thewritinghabit', 'nottheonion', 'redditrustcommunity', 'assholedesign', 'instant_regret', 'tnargkiller', 'plasticsurgery', 'automate', 'wallpapers', 'hpcisco7965', 'pureawesomeness', 'nameforgetters', 'cutdowndrinking', 'stellacracy', '2xfantasyfootball', 'redditwritesseinfeld', 'shittyeconomics', 'arielwinter', 'johnlocke4815', 'xxsnailkillerxx', 'perfecttiming', 'wehaveseenthebutthole', 'amitheasshole', 'raisedbyautistics', 'talesofdirtydave', 'cute', 'ventura', 'romesweetrome', 'atheismcomedy', 'welcometoreality', 'blackpeople', 'shittystatistics', 'edwinpgray', 'imcongratulating', 'petloss', 'kurzgesagt', 'cuckoldpregnancy', 'mexico_news', 'outofthejerk', 'salesforce', 'labyrinth', 'trueobjectivism', 'instantbarbarians', 'idiotsfightingthings', 'explainlikeimcalvin', 'stormfrontin', 'selffuck', 'loaebte', 'logicalfallacy', 'poetrybattle', 'mydaily3', 'fifthworldproblems', 'magicsebi', 'alzheimerscanada', 'jeffreytsai', 'explainlikeimscp', 'arisparkle', 'elibartard', 'me_irl', 'arado', 'dominican', 'memevomit', 'howcanwehelpyou', 'newswithoutcensorship', 'macroporn', 'brunei', 'drunkenama', 'childless', 'pointlessstories', 'driving', 'revolutionspodcast', 'historyvideos', 'unexpectedinquisition', 'journal_club', 'volvarywrites', 'creepy_gif', '5050jokes', 'wehiird', 'moraldilemmas', 'birdswitharms', 'pm_tits_for_a_poem', 'meirl', 'priscillium', 'ideasforcc', 'axecraft', 'umeedhai', 'matthosszone', 'ttihartistsguild', 'teenadvice', 'thinkingofharambe', 'shittypoetry', 'animalsbeingderps', 'chickenhater', 'redditscripting', 'homemaking', 'agitation', 'w10m', 'justneckbearthings', 'shibe', 'theculling', 'the_mediators', 'derscheisser', 'thebrainscoop', 'lifeprotips', 'habitats', 'hardcoreaww', 'redditdigestapp', 'youdontsurf', 'physicsstudents', 'kualalumpur', 'lawnpopping', 'starcucks', 'peoplebeingjerks', 'cranberryletters', 'sexed', 'whencelebswereyoung', 'donaldandhobbes', 'storytwist', 'old_but_gold', 'shakespeareauthorship', 'tzm', 'rarepuppers', 'ka_like_the_wind', 'emissaryrpg', 'impeccablemix_bestof', 'batshitbusdrivers', 'amateurtheories', '0131', 'triplanetarytest', 'oddlysatisfying', 'thebestshirts', 'frisson_mirror', 'stupidanswers', 'enough_ilab_spam', 'rule34_comics', 'whitewhale', 'gamebooks', 'koans', 'osha', 'infographic', 'policeporn', 'wolverstreetsiswrong', 'angryirishreddit', 'parking', 'skyrimmods_test', 'gaygents', 'wrobbing', 'thesquadonpoint', 'zorbex', 'exposureporn', 'classytrashy', 'myinternetdiary', 'saltandcedar', 'shittycharmander', 'pyongyang', 'streetfinder', 'almostinteresting', 'wtfgaragesale', 'myportal', 'cophater', 'publicrelations', 'ford9863', 'bestofrekt', 'cumberbitches', 'toosoon', 'worshipporn', 'opencaptioning', 'libgen', 'swiftkeystories', 'theericandreshow', 'indiefolk', 'tiltshift', 'aww_gifs', 'harrisonburg', 'd42', 'shortystories', 'redditneon', 'ssbbw', 'animaltextgifs', 'horriblydepressing', 'gamingcirclejerk', 'megateckguy', 'meowsef_land', 'lexwriteswords', 'giftournament', 'singapore', 'haiti', 'rigganantioch', 'powermatrix', 'seriousconversation', 'redditalcoholics', 'canthearyoubotex', 'cfs', 'unexpectedfatherted', 'parody', 'tendies', 'celestiasim', 'therunawayguys', 'pixelsorting', 'thelostlounge', 'scarlettjohansson', 'simulatedprompts', 'dataisugly', 'lightcurve', 'bestof2014', 'imaginarywords', 'grammar', 'wtf_test', 'daily_challenges', 'petitions', 'moldilyspeceresting', 'sanctionedsuicide', 'vrijmetselarij', 'freechipotleguacamole', 'betteroffted', 'thehiddenbar', 'by_booksandteaandcats', 'rdb', 'celebrity', 'kenbone', 'papercuts', 'goatsimulator', 'benignexistence', 'sodastream', 'sourcefed', 'perfectpause', 'redoric', 'waifu', 'jinanenglish', 'trailers', 'hideouts', 'ihatesportsball', 'cabrillo', 'tmbr', 'therealcirclejerk', 'utz', 'thestoryboard', 'ecards', 'synchronicities', 'cemeteryporn', 'weekendbot', 'a1w47', 'complaints', 'scienceofdeduction', 'samgalimore', 'defranco', 'bassjay', 'varafel', 'animalsbeingbros', 'aboutreddit', 'joecormier', 'athernice', 'todayibullshitted', 'holycherriesbatcave', 'americanpsycho', 'themoviewithin', 'askredditteenagers', 'dspd', 'justiceporn', 'threadkillers', 'publiclove', 'wheredidthelinkgo', 'elheber_lit', 'pka', 'teengaymers', 'triggered', 'seanmarkbrad', 'casualconversations', 'futurewikipedia', 'thestage', 'gergwritingarchive', 'asksingapore', 'accuratebattlesim', 'hearthlings', 'winsomeman', 'talesfromuberdrivers', 'pelvicfloor', 'guineapigs', 'ifoundsara', 'darts', 'bitofnewsbot', 'drowningdream', 'raisedbynarcicists', 'shittyfinance', 'alphathea', 'thecryopodtohell', 'nocontext_discussion', 'highdeas', 'automationparty', 'topnotchshitposting', 'lyricrit', 'historicalorfiction', 'namebranjokes', 'judgemywriting', 'makemeagif', 'psncodes', 'bulldogs', 'igthft_ham', 'batman', 'rants', 'ziincworks', 'teen_crossdressing', 'burgerfucking', 'teennudists', 'indonesia', 'splitdepthgifs', 'technoproduction', 'straitjacketbondage', 'digitalcards', 'bamboozlerevenge', 'msstate', 'northamerican', 'shittymeatbags', 'hero0fwar', 'yourmomshousepodcast', '7cupsoftea', 'icryevertim', 'musiciansofthefence', 'finishthejoke', 'ytpmv', 'wasabi', 'didgallowfrontpage', 'synesthesia', 'cabbagetrollfacts', 'catsstandingup', 'news_mods_must_resign', 'interestingfactsabout', 'bandnames', 'food', 'psychology', 'wyttd', 'militaryhistory', 'pictureswithpatrick', 'yaynay', 'comptia', 'whitetrashlifehack', 'jinxu27subreddit', 'cringeanarchy', 'slipknot', 'pangolinappreciation', 'ostsaid', 'blind', 'coverforme', 'quotesincontext', 'stw', 'nyxnyxnyx', 'germanshills', 'remotework', 'bestof', 'psychopathy', 'thalassophobia', 'destabilized', 'dubdube', 'mod__', 'writingpromptsdev', 'blowonyourscreen', 'missing411', 'oceanography', 'cookiez_fort', 'test567765', 'sarcbastard', 'lunyr', 'draxagon', 'shittyredditmovies', 'givecomplements', 'explainlikeimhigh', 'deadchildren', 'maps', 'weirderlips', 'trashy', 'explainlikeimfive', 'gmo', 'timewarnercable', 'mysteriesoftheworld', 'glitch_in_the_matrix', 'websitesyouvist', 'shitredditgilds', 'captainatom', 'counterpointclub', 'amrc', 'bowls', 'cattaps', 'alienagenda', 'itsmylastday', 'computersecurity', 'dogpeople', 'talesoflocksmithing', 'alexloganwriting', 'cthulhuandcats', 'wordplay', 'autobodycollision', 'sadfrisson', 'blackgirls', 'singleguymeals', 'archeology', 'highshowerthoughts', 'lwgcirclejerk', 'fullscorpion', 'garbagemantales', 'nichtderpostillon', 'unsubscribed', 'aidanturner', 'truetruebestof2012', 'ideasforaskreddit', 'thingsforants', 'wigglebutts', 'todaywasbetter', 'nqmod', 'drfh', 'funnys', 'cockgoblin', 'firstdayontheinternet', 'dairyfarming', 'punamakanali', 'futureporn', 'deals', 'meltingthedead', 'thephenomenon', 'biosphere', 'gamephysics', 'accidentalcomedy', 'jewboyconspiracy', 'tinyweapons', 'freedf', 'herpetology', 'heyagoncho', 'thecastriffsub', 'damnthatsinteresting', 'lone_wolf_studios', 'made_in_england', 'spaceporn', 'history_of_gaming', 'lilwa_dexel', 'punny', 'majorparadox', 'djmauthor', 'macro', 'theta360', 'bougwinner', 'logisim', 'respondswithscifi', 'athleticgirls', 'quotesbygreatman', 'whythecynic', 'thenetherlands', 'cgpgreymemes', 'drawit', 'youtubecomments', 'aquarium', 'buzzfeed', 'ukhistory', 'blindpeopleproblems', 'badscience', 'learningwhilecrazy', 'prompted', 'theaesfiles', 'gallowboobmasterrace', 'lerightgeneration', 'petpeeves', 'marfans', 'improvrhymetime', 'atticusfinch1962', 'metricconversionbot', 'trumpcoin', 'tokkiefeesboek', 'bodyboarding', 'wearewaiting', 'askacountry', 'furi', 'engineersatheart', 'blinsinwriting', 'expressivestatues', 'hilistenerpartys', 'vertical', 'remotesensing', 'storieswithred', 'reno', 'nativeamerican', 'leexperiment', 'mycirclejerkacademia', 'dacriawrites', 'affirmations', 'rocketry', 'vyrdism', 'pipreddit', 'relayforreddit', 'adkreddit', 'humorousreviews', 'dofus', '9gag', 'gubbinalwrites', 'culture', 'quiteawhile', 'abcqwerty123', 'westiedogs', 'jesusfuckoff', 'canyoudrawthisforme', 'allhailurbanbot', 'schenectady', 'germanmilitaria', 'viticulture', 'thenebraskas', 'tumblr', 'shittyrobots', 'cissingapore', 'bannedfromme_irl', 'synthetic_biology', 'worldnews', 'fortitudetv', 'aractivism', 'fuckimold', 'wellthatsucks', 'sutdents', 'gijinkarp', 'thefakegm', 'roastyourgrandmother', 'dayofdefeat', 'bridgeporn', 'samurai', 'mildlyhomestuck', 'realtor', 'sulaymanf', 'retrofuturism', 'todayamylearned', 'james', 'vantablack', 'deepintoyoutube', 'amazon_affiliate', 'emli5', 'randomactsofebooks', 'boostforreddit', 'shortstories', 'pocketmortys', 'goingtohellforthis', 'inksinger', 'munich22july', 'datinghell', 'creativelyprompted', 'urbanexploration', 'chloe_east', 'goodfaketexts', 'cardistry', 'seo_killer', 'punchablewords', 'televisioncirclejerk', 'nerdcity', 'thebonfire', 'charcuterie', 'solarroadways', 'blackmirror', 'busty_porn_vids', 'r4rsaskatoon', 'whooosh', 'name_of_subreddit', 'crosseyedfap', '19chickens', 'captionbot', 'crazyideas', 'shittyflutesounds', 'badmilitaryscience', 'thegreybetrayed', 'humanoidencounters', 'deepgreenresistance', 'shrivelantiopinions', 'askreddit_unmoderated', 'newscientist', 'fuckingdankassmemes', 'srsturkey', 'lilycollins', 'totalwar', 'randomshit', 'lshima', 'sharks', 'police_discussion2015', 'askgaymen', 'sympatheticmonsters', 'circlejerk', 'fox01', 'cltcomedy', 'buseswitharms', 'wikipedia', 'bigprojects', 'supersumc_stories', 'peniscarrierfreedom', 'whoreddithatesnow', 'designporn', 'sandbox', 'lspdfr', 'oilpulling', 'iamverysmarter', 'stutter', 'thecannibalcaverns', 'realnyc', 'changemyview', 'get_hyped', 'shithaplosays', 'asklinguistics', 'explainlikeimphd', 'merica', 'stlouismapdata', 'mspaintshoops', 'narratelikeiama', 'wowthisisabuttsex', 'szaszism', 'hugme', 'antilogic', 'kitty', 'thumbsucking', 'ifoundinthewoods', 'coloringtherapy', 'darkredmeerkat', 'abusevictims', 'thecultcast', 'monkeysee', 'judgeit', 'aoe', 'memphis', 'adviceformen', 'chills', 'notflameretardant', 'projared', 'upvotegifs', 'ifuckinghatecats', 'planetrescue', 'listofsubreddits', 'notalocalcrimestory', 'jenniferlawrence', 'brokenjokes', 'dreams', 'randomactsofletters', 'favour', 'pornflicknames', 'chakras', 'jennafischer', 'hailcorporategold', 'qain', 'mainebeer', 'firstworldconformists', 'snowywords', 'getunmotivated', 'badarchaeology', 'techoblanco', 'airconditionerfiction', 'tf2au', 'throwaway_4_opinions', 'lavameteor', 'sonnets_for_tits', 'kenm', 'chrisbryant', 'hemophilia', 'psychowritingprompts', 'malaysia', 'dae', 'the_zoid', 'glider97canposthere', 'gif', 'menkampf', 'hotdogs', 'noslep', 'talesfromtherealm', 'unexpectedhimym', 'rhombusapp', 'cosplaygirls', 'drunkjokes', 'thomaspynchon', 'thebrink', 'jeniusguy', 'gangstaswithwaifus', 'wizardsightings', 'hagabadla', 'badtaste', 'knockedoffhighhorse', 'iamarequest', 'shiftylifeprotips', 'shal5sucksatwriting', 'griffithuni', '5by5dlc', 'rickandmorty', 'fantasydeathpool', 'queen', 'nostupidquestions', 'thelounge', 'josephcampbell', 'qthruster', 'scottishproblems', 'madlabs67', 'data_irl', 'stupidheroes', 'supershibe', 'gifcreators', 'dancarlin', 'launchbox_app', 'otherside', 'pitchforktheory', 'gantz', 'misleadingthumbnails', 'tay_tweets', 'ignorantimgur', 'mash', '6perks', 'maybemaybeoriginal', 'autowikibot', 'squidcritic', 'metametacirclejerk', 'reallyreddit', 'heavymind', 'saxophone', 'psycho_alpaca', 'snowdencirclejerk', 'askhistoriansworkshop', 'bigniggyclub', 'subredditama', 'resintegrationtests', 'getgeorgehome', 'flashinggirls', 'loyolachicago', 'imgoingtohellforthis', 'grandpajokes', 'modinteractions', 'boomroasted', 'motivationalpics', 'spacedadjokes', 'viper_seo', 'chihuahua', 'bodylanguage', 'punthreads', 'explainthejoke', 'batterscotch2', 'ventusalpha', 'forricide', 'letsmakeabook', 'comparativemythology', 'stanisms', 'celebs', 'myfriendwantstoknow', 'tesdoverkill', 'actlikeyoubelong', 'unsaveallposts', 'thevillage_wishlist', 'cagonewild', 'fitbit', 'iamacirclejerk', 'womenshealth', 'poop', 'wholesomemes', 'not_quite_right', 'garbagesociety', 'antinatalism', 'cloudtobutt', 'amateurquotes', 'tigerbelly', 'mylittlemotorhead', 'shoahthoughts', 'wheretoplaygolf', 'firefoxextensions', 'veteranpacks', 'theydidthemath', 'videos_discussion', 'corporatemisconduct', 'enoughtwopartyspam', 'peru', 'imaginarylandscapes', 'realfireworks', 'lititz', 'chiliconcarne', 'poiyurt', 'ihearyou', 'right', 'flint', 'middleeasthistory', 'subredditsashashtags', 'thelongdark', 'freemasons', 'scuttlebuttcompendium', 'qwertycourt', 'webm', 'getthatguyanotherbeer', 'nothingeverhappens', 'electriczoo', 'ilerminaty', 'fighterjets', 'coincidence', 'writechriswrite', 'outlandishalcoholics', 'rmit', 'vargas', 'lchf', 'streams', 'drunk', 'circlecuck', 'plasmacosmology', 'isidroid', 'toby', 'quadricorns', 'shoemaking', 'creepy', 'goldieeeeee', 'catfishingtales', '195', 'cruise', 'earrumblersassemble', 'internetisbeautiful', 'cmfilms', 'yackemflaber', 'carriefisher', 'justcheetogrubthings', 'skinnywithabs', '3ch', 'meta_me_irl', 'wearenotamuse', 'breathless', 'economichistory', 'pbsspacetime', 'rickandmortygifs', 'airporn', 'autosnews', 'bikeporn', 'climatemaps', 'folkunknown', 'archivedstories', 'sje46', 'metaphysics', 'imaginarytechnology', 'morbidquestions', 'commercialcuts', 'trueorfalse', 'accidentalalbumtitles', 'redditarmie', 'shine', 'gamingdeals', 'english', 'curiosityrover', 'gifsound', 'caravair', 'cvs', 'pixelatedbaloneywp', 'badpsychology', 'redditoneacts', 'pingpongpangyangalang', 'screamqueenstv', 'linuxcirclejerk', 'raw', 'ccemetery', 'firefly', 'lgbteens', 'tourettes', 'rayromano', 'banthisbreed', 'nf_writing', 'scrapinghub', 'alternativeart', 'quibblerapp', 'likeus', 'harambethegame', 'lovablecoward', 'iama2', 'pkagaming', 'r4chanmeta', 'redditaccount', 'americanhistoryx', 'realrule34', 'beerwithaview', 'bigfootsightings', 'althistorytimelines', 'meninuniform', 'everyfuckingthread', 'ibo', 'htdwbiotechdeniers', 'freeteenstwopointoh', 'criminaljustice', 'aliciawrites', 'strategygames', 'circlebrokecirclejerk', 'askouija', 'happiness', 'monohearing', 'nightowls', 'rebeltaxi', 'caaethil', 'askreddit_blackout', 'talesfromgorgatron', 'bitchimabus', 'cringejokes', 'reactgirls', 'dirtymindbots', 'ksdiscussions', 'thetradefederation', 'fulllengthfilms', 'calvinandhobbes', 'unedditreddit', 'christopherdrake', 'conspiracyfact', 'fireflyrpg', 'aspergirls', 'relevantusername', 'virtualfreakout', 'peoplewithbirdheads', 'slp', 'neuraljokes', 'inspirationscience', 'nightscapeldn', 'eliactually5', 'thevenusproject', 'karaohdamn', 'shittyreactiongifs', 'sweetbandname', 'pdicgfeec', 'oldpeoplefacebook', 'antitroll', 'linus_tech_tips', 'planes', 'cinemagraphs', 'chrishardwick', 'mildlyheroic', 'tomteller', 'futurism', 'actress', 'academicreligion_myth', 'upliftingnews', 'truedocumentaries', 'projectsession', 'achievementsforlife', 'lavalamps', 'yorkies', 'surfing', 'spaceengine', 'airguns', 'latinamerica', 'nevertellmetheodds', 'gaming_illuminaughty', 'todayspropaganda', 'massage', 'ukchildfree', 'worldsaway', 'idrewyouapanda', 'dogsongooflemaps', 'tsa', 'jack_harmony', 'educationbywill', 'slideforreddit', 'exams', 'veritasium', 'bordercollie', 'revolv', 'intellectualbullying', 'instructionsunclear', 'controlyourpiss', 'thecaptainsyacht', 'thelowcountries', 'improvur', 'drseussrhymes', 'shittyideas', 'myfinenglish', 'subseatechnology', 'roomdetective', 'karmavigilancepolice', 'blackculture', 'dankjillmemes', 'copypasta', 'lakeland', 'wumbowrites', 'theydidthemonstermath', 'downvotesupportgroup', 'wesanderson', 'archaeology', 'badlinguistics', 'fiscalconservatives', 'phantomforcespooposts', 'hellscapeporn', 'batmanmegart', 'medievalnorsestudies', 'candidpoetry', 'postdoc', 'cardsagainsthumanity', 'natureismetal', 'shitty_dream_meanings', 'warthunderrddtwing', 'vocabulary', 'shittysocialscience', 'rddtblacker', 'awshack', 'demandthesource', 'apeekintomymind', 'thearcherswriting', 'clinttacklessberry', 'forumlibre', 'someredditstats', 'wpforme', 'nongold', 'drsoaryn', 'thereferencegame', 'literallymyself', 'paulswpaccount', 'howdidthishappen', 'daniell61', 'kcexecutioners', 'monsterdeconstruction', 'capokerclub', 'gaypolitics', 'tallyhall', 'oceanlife', 'women', 'lmj', 'excons', 'jokeprompts', 'beginnertelescopes', 'optometrytng', 'redditnow', 'explainlikecave', 'arewerolling', 'kmart', 'forsvarsmakten', 'hippynecklaces', 'defaultgems', 'gokupwned5', 'spam_rings', 'useyournightmind', 'cmvpodcast', 'morninghair', 'overthoughts', 'shittymapporn', 'jiffybot', 'jebbushispresident', 'classic36', 'emdrive', 'pornoverlords', 'projecttunes', 'linkedlibraryofbabel', 'mattswrittenword', 'elidrunk', 'kcpdo', 'texoma', 'casinos', 'ofcoursethatsathing', 'psyc2371', 'seishinshoujo', 'strangerthings', 'spezisacannibal', 'congressionalhunting', 'shittytil', 'athism', 'totler', 'novapbs', 'gifbattles', 'realdefinitions', '3950', 'atethepasta', 'garmin', 'twitchfunnymoments', 'emojipasta', 'testcaseforcss', 'foleysmaine', 'ideasforeli5', 'noexplanation', 'lsu', 'porntitles', 'cablesgonewild', 'sexy', 'nancydrew', 'storytellers', 'wordavalanches', 'sciencefaqs', 'curewritewounds', 'shittyaskhistory', 'shaunc', 'mememonday', 'contemporaryart', 'malwarebytes', 'babyelephantgifs', 'korn', 'coffeeswritingcafe', 'warcollegewargame', 'spacediscussions', 'failedcatjumps', 'crappyoffbrands', 'franz_canis', 'prettyteenagers', 'harryprompter', 'unicycling', 'drunkorcat', 'gmofail', 'pencer', 'inbetweenersbyreddit', 'greypo', 'writingpromts', 'hypothetical', 'scherazade', 'thesadbox', 'pbrunk', 'spacesteading', 'nosex', 'promptsjustforme', 'fifthworldemoticons', 'insomnia', '2meirl4meirl', 'outoftheloops', 'accidentalracism', 'wigglegrams', 'happycryingdads', 'sweatypalms', 'smashladdercopypasta', 'wikiwhat', 'namenerds', 'timesyncs', 'earlymoderneurope', 'barbie', 'writingprompt', 'alansmithe', 'fucktammy', 'artisanvideos', 'larkinlove', 'voiceofyourthoughts', 'makeitamovie', 'blunderyears', 'funnycharts', 'montessori', 'todayicheesebread', 'eurosmug', 'itsaunixsystem', 'javascriptart', 'fictorum', 'scarecrowsid', 'realrationalfeminism', 'emarosa', 'establishmentterms', 'democratsvrepublicans', 'judgedvideogames', 'guyana', 'trailerparkboys', 'kimmyschmidt', 'keyboardcirclejerk', 'itsasmallworld', 'kurtvonnegut', 'tibiammo', 'penofigilix', 'reddit50', 'theearthquakeguy', 'applesucks', 'spacelaunchsystem', 'punchablefaces', 'subredditofthecentury', 'southasianhistory', 'fuck2016', 'candidporndescription', 'bullmoose', 'dwelvers', 'matiwrites', 'ideasforcmv', 'teenagecoders', 'imaginaryvillages', 'askmrskeltal', 'hybridanimals', 'audiojerk', 'ctwtn', 'againstkarmawhores', 'typewriters', 'findareddit', 'theworstgeneration', 'notinteresting', 'stlouiscirclejerk', 'features', 'weev', 'snapdecision', 'azsource', 'wishlist', 'churchofgundog', 'spacechem', 'enigmaticwrites', 'perupics', 'ucry', 'castironstomach', 'autofellatio', 'punchablenames', 'gayteensgonemild', 'fistfucking', 'parallelworldproblems', 'snek', 'cyberchase', 'gifextra', 'tempus_fugit', 'linkingidofownpost', 'ca_chat', 'spongebob', 'naturalremedies', 'sonder', 'rainmeterhelp', 'copypastecreation', 'waroncomcast', 'cgiii', 'commercials', 'xkcd_transcriber', 'keepwriting', 'jerktalkdiamond', 'conspiracynorules', 'srswimmin', 'badmedicine', 'bestof2015', 'finishmyproject', 'nocontext_wallpapers', 'nasa', 'fuckingmanly', 'physicsgifs', 'pangeanpowers', 'explainlikeurkenm', 'gvesm', 'karmawatch', 'doublebass', 'textdetectives', 'askeconomists', 'quantum', 'insightfulquestions', 'amplaylists', 'shitmyroomiesays', 'carbonrom', 'grumpout', 'everythingscience', 'kiloku', 'ooer', 'songdrawing', 'layovermeetups', 'pcgentlerace', 'shimeji', 'simulate', 'unexpectedhogwarts', 'iamverysmart', '30secfantasy', 'writing_promptly', 'walrus', 'islamicstudies', 'dunsparcewrites', 'mapsinpaint', 'shitspam', 'brosontoes', 'wwi', 'thrashingmwrites', 'facepalm', 'asaliberal', 'otc', 'showerquotes', 'imagines', 'retiredgif', '18bfriendzonest', 'redditup', 'personajerk', 'dashcam', 'alasjuicy', 'deadpenis', 'duckietv', 'allltogethernow', 'taskforcedeltabot', 'alpertlpinefiction', 'playitagainsam', 'conniecompanion', 'killersealion', 'unexpectedanalbleach', 'techcannonfodder', 'roastjarek', 'antiatheismwatch', 'necromancers', 'lifelearning', 'furryhate', 'doinggodswork', 'asheronscall', 'dickvincichode', 'spacepolicy', 'starbucks', 'politucs', 'storiesbymot', 'antiantijokes', 'archerfx', 'thinkramifications', 'findyourdoppelganger', 'hyperacusis', 'eduvids', 'saphine_', 'toledo', 'historypodcast', 'antiherorp', 'dadjokes', 'lolaskhistorians', 'ssbsuggestions', 'falsehistoricaltales', 'xthorgoldx', 'startupgermany', 'art', 'gayjokecentral', 'de_thierry', 'arted', 'badmovieideas', 'jacksonwrites', 'frisson', 'realshitreactiongifs', 'adviceatheists', 'remindme', 'urbex', 'esg', 'vargasornot', 'celebsexposed', 'cykwl', 'badgeopolitics', 'dystopia', 'ukskeptic', 'tombstoning', 'petfree', 'tvtrailers', 'ketchuphate', 'sensualcelebstories', 'cringejerk', 'militaryporn', 'nsfw_ama', 'sierra_skye', 'antenna', 'stupidcutesy', 'mckaylamaroney', 'cysticfibrosis', 'tedtheaccountant', 'your_little_angel', 'shittyaskscience', 'aegeusauthored', 'a1w133', 'mittromneystory', 'reallifedoodles', 'stemlogic', 'harvestmoon', 'oliviathecf', 'findingnico523', 'irrelevantgold', 'crowdfunddit', 'reviewcircle', 'concepts', 'leftest_sjws', 'savepepe', 'neckbeardrpg', 'arthistory', 'ask_korea', 'unexpectedhamilton', 'kjfqatest', 'roguelands', 'askmeanything', 'subsubredditdrama', 'meta', 'kstate', 'thelegend27', 'simpleprompts', 'radpill', 'croatianspy', 'hotandtrending', 'modelindonesia', 'brocabulary', 'noburp', 'nate_parker_books', 'celebrateme', 'deepthoughts', 'burds_irl', 'gecko45', 'bamboozle_insurance', 'sequelmemes', 'evenwithcontext', 'rainthropps', 'nobreadsticks', 'maine', 'videos', 'maddonreddit', 'tomnod370', 'nightmind', 'wrongsubtitles', 'thegreatwarchannel', 'ragdolls', 'papapls', 'golf', 'googlefiber', 'potionseller', 'esarosettamission', 'fringly', 'explorerderp', 'dramaland', 'wholisticenchilada', 'scholar', 'bofe', 'blogsnark', 'itspronouncedgif', 'warshipporn', 'ilivein', 'rbci', 'motivatinggiraffe', 'thisiswhyyourefat', 'hypotheticalsituation', 'secretsubreddit', 'bacewrites', 'dontpmpms', 'programmersadjokes', 'jiggers', 'uzateno', 'mlpmature', 'fakeadult', 'catastrophicfailure', 'shitaussiessay', 'suggest', 'jacksfilms', 'poetic_suicide', 'noslip', 'physics', 'soldiers', 'reddit3016', 'writejpn_eigodekakou', 'stoyaxxx', 'askredditch', 'ruralporn', 'bingeit', 'commiepasta', 'cerily', 'im14andthisisfunny', 'teevil_genius', 'teenkik', 'dinosaurs', 'ircmafia', 'grassrootslongevity', 'opconfessions', 'reizoukinwrites', 'memeeconomy', 'getmorewishes', 'spottingtheshills', 'gamernews', 'ragatode', 'assert_your_rights', 'mildlyinfuriating', 'floridaman', 'ted', 'birdstakingthebus', 'showerquestions', 'askparanormal', 'engineeredattacks', 'reallycoolnickname', 'upvotedbecausegrohl', 'gravitationalrainbow', 'drawingprompts', 'mathideas', 'westmount', 'guiltypleasuremusic', 'destructionporn', 'foodlosangeles', 'clubteen', 'mapswithoutmaine', 'shittywritingprompts', 'bertstrips', 'willworkforcatgifs', 'ac2', 'allthingsdogs', 'tortoise', 'empaths', 'poulsbo', 'bestjokeev', 'war', 'gonenatural', 'heygurl', 'pinup', 'techunder10', 'cottage_industry', 'metanegareddit', 'mumkeysanimereviews', 'ebes', 'scienceteachers', 'comicthreads', 'eyezis', 'wannaspend', 'devtrast', 'dumpsterdiving', 'outofthemetaloop', 'traveltales', 'synthetic_companions', 'veganpogrom', 'nlsscirclejerk', 'botrights', 'trollmua', 'teleshits', 'multiversediscussion', 'cakeday', 'modeveryone', 'deepseacreatures', 'theodoreroosevelt', 'backonmyfeet', 'outofthepit', 'nonononoaww', 'jerktalklobby', 'garlicbreadmemes', 'probroscis', 'delightfullychubby', 'girlfriendjokes', 'likesnickelback', 'swole_acceptance', 'writeworld', 'frogsandcoins', 'shitcomment', 'sylens', 'sloths', 'bigfoot', 'unexpected', 'alexandra007', 'oldschoolcool', 'chainstories', 'streetview', 'wptypoe', 'canthearyoubot', 'ohlookitsastory', 'afabledhero', 'androidisbeautiful', 'fresno', 'mindmap', 'rubegoldberg', 'discordia', 'respectfullyyours', 'incesterotica', 'coldharambe', 'girlsurfers', 'theholysphere', 'gendertalk', '911fanart', 'diwhy', 'mjek421', 'tworedditorsonecup', 'jacksfilmsbot', 'shittyshitredditsays', 'sillynmscrits', 'companyofheroes', 'trulycreepy', 'quotes', 'h3h3_productions', 'withviolence', 'oneliners', 'asktech', 'costa_rica', 'iwg', 'nickofnight', 'williambrewer', 'shitcorbotssay', 'luxury', 'vexillologycirclejerk', 'joker', 'gameoffers', 'homework_help', 'aoe2', 'lemetageneration', 'sneks', 'writingcritiques', 'staplerinmyass', 'twodudesdiscussthings', 'opinion', 'edthousand', 'donutsteel', 'fffffffuuuuuuuuuuuu', 'allthingsmlg', 'half_assed_haiku', 'eyebombing', 'kashka', 'limejokes', 'thronescomics', 'whatintarnation', 'luka_reddit', 'neoscavenger', 'marsone', 'scoobydoo', 'frasier', 'europetravelpics', 'i_know', 'notluciddreaming', 'earwax', 'shittyshowerthoughts', 'iraniangenius', 'cleverwallpapers', 'cuteguys', 'og_ops', 'supersaiyangifs', 'redditeditspeeches', 'michaelcera', 'karmadecay', 'aboxofroo', 'cccult', 'foreignwordoftheday', 'watchmeshitpost', 'dittopoop', 'hayday', 'burgerking', 'sourcreampete', 'fatblackholehate', 'unidan', 'fightmeirl', 'mademesmile', 'hailc', 'ifukmydog', 'undeleteworldnews', 'bannedfrommiiverse', 'quinineglow', 'dirtydavestories', 'unitedstatesofamerica', 'vaporizers', 'fappeningdiscussion', 'askshittyjehovah', 'bandung', 'toasterrights', 'firstimpression', 'advicehell', 'commentsgetdrawn', 'deadrising', 'lewronggeneration', 'mpom', 'freecompliments', 'andytuba', 'karmakourt', 'renssiesdev', 'idareyou', 'stopsmoking', 'racistpeopletwitter', 'winkeladvokatenllp', 'thenthapple', 'onegoodsentence', 'followmydick', 'goldguysplayground', 'russiawonwwii', 'genome', 'writingthepunlife', 'op_jade_helm_15', 'wonks', 'sterilization', 'hitmanimals', 'biochemistry', 'nontradscrapbooking', 'beauregardthefloofy', 'iiiiiiitttttttttttt', 'ww2', 'teflcirclejerk', 'rarelyfunny', 'askbiology', 'explainlikeimeuphoric', 'space', 'bestoftldr', 'ainu', 'teendeveloper', 'le_monkey_face', 'business_ideas', 'morningcommute', 'shesmovedon', 'singaporeinashellnut', 'wholesomemerchants', 'elementalhominid', 'wastedgifs', 'learnuselesstalents', 'sefiefythis', 'childishchimera', 'japanese_idols', 'abdiscussion', 'hatetheweak', 'missevannaxo', '3yearsboys', 'multiversenews', 'lifelonglearning', 'althistorysim', 'humor', 'reddittrophies', 'futurologymoderators', 'picsoritdidnthappen', 'postclassicalpowers', 'fatcaninehate', 'somd', 'thatpeelingfeeling', 'jung', 'rant', 'forrestibonffdotnet', 'terrariacirclejerk', 'paypai', 'karmamachine', 'alien_theory', 'bistrotime', 'itwasagraveyardsmath', 'srsbeliefs', 'cripplingalcoholism', 'alternatehistorymaps', 'gybe', 'bestofcrops', 'sexshows', 'kndwrites', 'manity', 'jadehelm', 'pshoffman', 'trrh', 'sexcriticalfeminism', 'karma', 'nature', 'giftcard', 'mrw', 'lpotl', 'madeofstyrofoam', 'superbowl', 'oifyonlyifuckyou', 'emojerk', 'lab002', 'th3davinci', 'blackaces', 'usernamestories', 'china_zh', 'fergusonstreams', 'aspergers', 'adoptanewbie', 'purplecoco', 'requestasketch', 'brushybrushy', 'sayitmoreoften', 'inkfinger', 'footbaww', 'refutinghasbara', 'moviemusic', 'biology', 'bowmanville', 'daily_creation', 'transhumanism', 'lifeatsea', 'writethatsong', 'shadow_of_war', 'maymayzone', 'specart', '4000dollarart', 'teddyarmy', 'bannedfromclubpenguin', 'wkuk', 'storiesnoonecaresfor', 'junomission', 'alzheimers', 'anormaldayinrussia', 'xscz', '3amjokes', 'ifaf', 'cgwilliam', 'shibeschat', 'cats', 'lonelydatabot', 'wdp', 'phoiboi', 'reactiongifs', 'openstandards', 'postleftanarchism', 'picalowpiepi', 'theinternetprotecters', 'taxi', 'atheismcopypasta', 'deltabot', 'yearofart', 'latvianjokes', 'vthd2304fall2015', 'kateupton', 'popping', 'luna_lovewell', 'kopieerpasta', 'mapporncirclejerk', 'haiku', 'explainmundane', 'iwassurprisedtoo', 'terrabattle', 'ebolahoax', 'pavementblues', 'shubreddit', 'freeflight', 'b201', 'unexpectedskyrim', 'fuckspiders', 'written4reddit', 'physicsjokes', 'chemhelp', 'pyronar', 'poshconversations', 'onlyswearing', 'ilabsightings', 'awwducational', 'straymav', 'khalifffa', 'okinawa', 'punchablehairstyles', 'phonelosers', 'thekidsareallwrong', 'porpoiseawareness', 'thecatdimension', 'bottomlulz', 'bepis', 'technology', 'shittyseduction', 'gallowboob', 'shittyevolution', 'depravedmemes', 'tgirl_feet', 'theelance', 'practicewriting', 'fodmaps', 'poem_for_your_sprog', 'edgyedits', 'aggregat0r', 'suicidology', 'everysinglethread', 'natalism', 'gaybroteens', 'shitbenfranklinsays', 'yogagirls', 'masterchef', 'uejd', 'childfreemilitary', 'autism', 'karmacourtblog', 'nigger_dicks_in_anus', 'artefactporn', 'hailcorporate', 'orkspeare', 'unschool', 'asannyc', 'jago1996', 'the_evil_within_wp', 'healthwithcare', 'dank_meme', 'longevity', 'humanitarianideas', 'heavybooks', 'thereisnoowl', 'casualconversationes', 'birb', 'teen4teen', 'redrocket', 'drawforme', 'hctriage', 'thehuntfor852', 'farmtales', 'blag', 'woooosh', 'purplesong', 'newhorizons', 'futurology', 'friendshipadvice', 'kolibri_writings', 'letsaudio', 'feelbadnews', 'minusxero', 'username', 'unmoderatedanarchism', 'dingdonggifter', 'chemicalreactiongifs', 'automateddecisions', 'askastronomy', 'perfect_response', 'chatbots', 'nintendraw', 'anon_writ', 'onetruetheenkrypt', 'reddittagger', 'eldergeek', 'shittyadvice', 'whyweretheyfilming', 'showercirclejerk', 'wholesomenetwork', 'moderator', 'dowhateverthefuck', 'writingghost', 'youwritethepunchline', 'originalwp', 'unusualart', 'piratesofthecaribbean', 'scamthescammers', 'talk', 'japanpics', 'nonsense', 'sas_watch', 'doxcallity', 'hitchhiking', 'pm_me_your_nightmare', 'wtfstockphotos', 'jimmiesclub', 'wtfdijl', 'uiowa', 'fuckstannis', 'oneparagraph', 'bandcamp', 'autonocontext', 'visualthought', 'indiefied', 'hugeone', 'danthemanaus_myblog', 'lwgcopypasta', 'ladiesofscience', 'europeancollapse', 'dorrishcats', 'inallfiction', 'willienelson', 'unquestions', 'tifagf', 'trippy', 'oysters', 'wfto', 'teenagers', 'pettyrevenge', 'memories_of_you', 'secondaryinfertility', 'lyrikistliebe', 'youseeingthisshit', 'gw2devtrack', 'robotdevilhands', 'circlebroke', 'presidents', 'animalintelligence', 'h3h3productions', 'propaganda', 'reallywackytictacs', 'thefence', 'galokot', 'joe56780', 'foreverkailyn', 'redditinaction', 'wwiipics', 'adrenalineporn', 'happyfunplayground', 'travelporn', 'shamepolice', 'agorapodcastnetwork', 'sca', 'tinktinks', 'tierlists', 'dsnake1', 'katawashoujo', 'thhgtr', 'appalachia', 'askoldpeople', 'nintendude', 'comicbookmemes', 'americanodyssey', 'badpublicart', 'floatsallboats', 'cryptids', 'openyoureyes', 'iia', 'fourte2', 'freebooks', 'commoncourtesy', 'hukd', 'ghettohaiku', 'fnaf', 'charactercrossovers', 'felons', 'datfeel', 'explainmydownvotes', 'quotesporn', 'lnfinity', 'radio', 'texasatheists', 'uhart', 'texts', 'trebuchetmemes', 'picsorgtfo', 'kinks', 'screamintothevoid', 'debunkthis', 'kromagnon', 'nokia_stock', 'moderatorplatform', 'intotheslushpile', 'delete', 'formerneckbeards', 'rickygervais', 'askhistorians', 'lukecage', 'loafing', 'teachertales', 'exournal', 'fastfood', 'knowyourshit', 'nuclearpower', 'newcountry', 'redditmadeasong', 'transfashionadvice', 'helloidrinkkthxbai', 'marshallbrain', 'biophysics', 'vercwrites', 'filthyfrank', 'marinebiology', 'mrshow', 'epicthread', 'techinasia', 'exasperations', 'perfectfit', 'youtubecenter', 'lazycouchpotato', 'whatwouldyoudoif', 'mondonodo', 'society6supportgroup', 'discoveredspecies', 'yugoslavia', 'booktitles', 'band_names', 'primatology', 'beggingforgold', 'shorthand', 'amarequest', 'martsen', 'reddit_silver', 'frostbitefalls', 'shittysuperpowers', 'savagegarden', 'badwomensanatomy', 'hardscience', 'redditwritestheoffice', 'eder', 'bikinibottomtwitter', 'fail', 'matt', 'shitomnissay', 'lovecraft', 'seeshark', 'shitty_car_mods', 'pandr', 'swiftmangasupporters', 'deepcutsfromtuna', 'delusionalartists', 'redditmobile', 'grid_ops', 'historyjokes', 'meanjokes', 'kittykatgaming', 'savepetsmobile', 'undergroundhiphop', 'circlejerj', 'goodbots', 'jonstash12', 'alkmaar', 'himymagain', 'fairlyoddparents', 'crappysolutions', 'jerrystories', 'gifv', 'asianpowerpolitics', 'nightingale115', 'infiniteworldproblems', 'ffsreddit', 'shill', 'liferuiningsecrets', 'sleep', 'anything', 'terminator', 'yester', 'gimmestories', 'true_teenagers', 'furry_irl', 'pizzaforyourthoughts', 'abix', 'sirfedora', 'marmitebadgerslife', 'wine', 'dirkwrites', 'dracomalphas', 'sports', 'debunkingmandela', 'basque', 'findcharliejacobs', 'interestingasfuck', 'illbeyourguide', 'boredwriting', 'shittyscience', 'nosillysuffix', 'history', 'theblacklist', 'illtake', 'biasedlawpllc', 'askhistory', 'adjectivenoun', 'beetlejuicing', 'toastmasters', 'fyrefestival', 'accidentalvampire', 'nostupidexperiments', 'justfuckmyshitup', 'heroesandgenerals', 'redditactivism', 'freegold', 'starterpacks', 'clickbait', 'appalling_media', 'dalian', 'afuwantstowrite', 'churchporn', 'daerelevantusername', 'unexplainedencounters', 'switcheroo', 'bears', 'lifewithigor', 'mypeopleneedme', 'wince', 'moths', 'correctanswers', 'nijmegen', 'sinkstories', 'joebidenbot', 'labofthemind', 'warhammerstories', 'weirdenglish', 'animalswithoutnecks', 'words', 'bannedfrombfcp', 'suicidal_sloth', 'gravitywriting', 'chefit', 'justneckbeardthings', 'mildlyamusing', 'musictherapy', 'r_a_s_g', 'drunkorakid', 'isaacwrites', 'camel_writes', 'classic4chan', 'create', '4chan', 'worldcrisis', 'dryalcoholics', 'oceanman98', 'peoplewithprivilege', 'soulection', 'shittyphotoshop', 'teenaspies', 'redditobservations', 'writersdustbin', 'murica', 'expiredcheese', 'geant4', 'theydidthefuckyou', 'answers', 'mememarket', 'irondruid', 'mathjokes', 'reddbed', 'wallpaperrequests', 'whateveryouwantposted', 'selfiesatgroundzero', 'sega', 'pagefighter', 'gunsmithing', 'dendensgif', 'fuckingcooking', 'briefmacabrestories', 'montageparodieses', 'pepe', 'technizorcssstage', 'fountainsofwayne', 'totallynotcats', 'lolcats', 'autistic', 'deliphin', 'oldfarts', 'cabbagefacts', 'jaibrooks1', 'greenscreengifs', 'count_the_reposts', 'leoanoanimations', 'everysingleone', 'shortstory', 'natalieportman', 'zoophilia', 'palmcoast', 'grad_school', 'engineeringporn', 'secondworldanarchists', 'cumtown', 'discovertheglitch', 'tmodal', 'cleanjokes', 'michaelbaygifs', 'mayday', 'blankpagesemptymugs', 'holdmybeer', 'asianamericans', 'russellbrand', 'scumbagmedicine', 'tmnt', 'loufest', 'roguestar', 'cf4cf', 'thankshitler', 'bearing', 'saintsrow', 'mapporn', 'crossstitch', 'xboxahoy', 'loungegames', 'wimali_public', 'tesdcares', 'imaginaryvampires', 'scots', 'longhandwriter', 'switcharoo', 'paofacts', 'etymology', 'yorkrite', 'imaginarymonsters', 'wheredidthecupgo', 'dodowrites', 'shtayawhileandlisten', 'amishadowbanned', 'shittyaskreddit', 'heromachine', 'biochem', 'the100', 'objectivism', 'openbroke', 'kim_mahjongwrites', 'puns', 'theyrationalized', 'curated_writing', 'nsfw_wtf', 'swapfu', 'highheels', 'roboskeltal', 'dankmemes', 'neckbeardnests', 'grilledccoalition', 'warcollege', 'let_make_cake', 'gamecapture', 'bodkin_lightly', 'crappymusic', 'greentext', 'deadpoetic12', 'deadredditors', 'aubreymaturinseries', 'panelementa', 'polarisnetwork', 'flashgames', 'models', 'missingcontext', 'ntrx', 'contagiouslaughter', 'confusing_perspective', 'jwr', 'jokestopractice', 'fedorafederation', 'sayheytohuy', 'programminghorror', 'shitreichaboossay', 'onlyonestories', 'painting', 'bukowski', 'orlendr', 'underwaterexplosions', 'genealogy', 'ugly', 'shadowofthecolossus', 'realtimestrategy_zh', 'crustedasscrackshit', 'pennydreadful', 'juneau', 'nonononoyes', 'realscary', 'gadgets', 'metacirclejerk', 'canyoudothis', 'thankyoureddit', 'kahootcrashing', 'bakanewsjp', 'orwellism', 'not_a_glitch', 'grilledcheese', 'deverror', 'childfreecirclejerk', 'fifthworldcooking', 'roomporn', 'latinopeopletwitter', 'programmerhumor', 'suggestions', 'gentlemanboners', 'datealive', 'harmontown', 'viewsaurus', 'whiff', 'saiyanpeopletwitter', 'thewaywewere', 'wrong_subreddit', 'a1speakinglistening', 'zoology', 'businesstactics', 'gifbattle', 'growthhacking', 'goldbait', 'frugaldating', 'lustsforcoffee', 'subvssub', 'shittykenm', 'philosophyself', 'godbaby', 'bestofdarqwolf', 'destinygaymers', 'lunchbreak_fiction', 'casualconversation', 'shortstoryjazz', 'spacefraud', 'nintendocaprisun', 'me_irl_anarchy', 'medieval', 'startwithabill', 'thatdandyman', 'karmastockexchange', 'c21h27cl3n2o3', 'earthpornvids', 'vodou', 'shilldefense', 'pokemongostories', 'luigideathstares', 'desabafos', 'workgonewild', 'audiobattles', 'redditinsider', 'globalwarming', 'trpofftopic', 'tornspirit', 'pedropaper', 'reservedank', 'ledootgeneration', 'shittytechprotips', 'deepintoreddit', 'situationroom', 'accountt1234', 'battlegifs', 'getmotivated', 'redtornado', 'stupidshitdeansays', 'mrxatest', 'nsfwiama', 'pornsitetreasures', 'activistmedia', 'penang', 'tiadsa', 'forgottenphenom', 'nomorebamboozles', 'earthporn', 'frankensubs', 'redditdotcom', 'feelthebern', 'bojackhorseman', 'laserlegends', 'hindustan', 'deadpool', 'montageparodies', 'wastedgifrequests', 'greypocounting', 'zylooxwrites', 'downvotesmcgoats', 'codyslab', 'wtf', 'portarossa', 'hedidthemonstermath', 'crystalgrowing', 'irishhistory', 'imagestabilization', 'totheground', 'onewordeach', 'keyboardtoscreen', 'drsteve', 'mortycraft', 'museumofreddit', 'angry', 'phillipdefranco', 'facebookpageapps', 'trueredditdrama', 'narcos', 'kghfthdfy', 'cmp150writes', 'yams', 'vacationrental', 'backfiredrevenge', 'gryffindordeathpool', 'dickbutt', 'rationalism', 'faintthebelle', 'diamooftheday', 'paranormalhelp', 'apocalypseporn', 'imagesofthe1970s', 'progolf', 'quickquestion', 'discourse', 'justcolumbusthings', 'deadniggastorage', 'nihilism', 'programskinr', 'v10l3nt', 'artstore', 'shittyearthporn', 'doesnottranslate', 'talesfromthefrontdesk', 'contactjuggling', 'rationalparanoia', 'candles', 'funnypics', 'shoppingisbeautiful', 'flyff', 'mcrib', 'autismisms', 'hptestposts', 'i18n', 'mylifesuxnow', 'l3lackl3ullet', 'darkwoods', 'blokdust', 'idesofyoutube', 'cyael', 'funnycauseimhigh', 'foodscience', 'earthscience', 'dashcamgifs', 'redditfr', 'kwazimoto', 'danielginstories', 'exolife', 'unchartedmultiplayer', 'memeforecast', 'hxdx', 'annefrank', 'brilliantsoberchoices', 'naturegifs', 'redpillfreemasonry', 'otherpeople', 'toughmudder', 'lexington', 'skepticism', 'salojin', 'xxs', 'bloomexperiment', 'seanpenname', 'cameronsmemoirs', 'longue', 'badhistory', 'tortoises', 'wanttobelieve', 'imadeupaname', 'allergy', 'moderationtheory', 'jon', 'frugalstreetwear', 'finnishhistory', 'quincunx', 'msa2015', 'puff2tuff', 'fiftyfifty', 'macsucks', 'writesscifi', 'weeklyplanetpodcast', 'badlegaladvice', 'aww', 'pedobaittime', 'corruptscience', 'kansaw', 'narcolepsy', 'mytheoryis', 'mexico_vip', 'deepfriedcringe', 'papercrafting', 'bikinis', 'spotthetexan', 'thingspoorpeoplesay', 'smodcast', 'negaredditredux', 'ancientegypt', 'kappasigma', 'asklawenforcement', 'askakiwi', 'humansbeingbros', 'undertalecringe', 'topvideos', 'askphysics', '4panelcringe', 'keepournetfree', 'commonfilth', 'britishtv', 'prettygirls', 'lenr', 'normmacdonald', 'grammarnazis', 'askscifideadpool', 'shittyfoodporn', 'questionablenews', 'serioussteamreviews', 'tinyrick', 'peritract', 'scriptedseries', 'santafe', 'aaronswartz', 'muenster', 'redditconspiracy', 'techkorner', 'qz8501', 'cahideas', 'sociopathrevenge', 'lets_switch_accounts', 'tooafraidtoask', 'emboldenthee', 'scenesfromahat', 'yrc', 'scribeschneid', 'estimation', 'mild_inconvenience', 'flashmobcleanup', 'originalwriting', 'shitmmforealsays', 'theordergame', 'secretprisonforthis', 'crashwhowritings', 'socialistart', 'lifeamateurtips', 'nudityreviews', 'circus', 'redditquotes', 'gonereviled', 'ctopb', 'netflixbestof', 'michaeljokes', 'weibsvolk', 'hydraulicpresschannel', 'aznsamiama', 'thedollop', 'politicalcartoons', 'thefishgodciphers', 'blackpeopletwitter', 'passiveagressivelpt', 'anthologymemes', 'lgbteensgonemild', 'loadingreadyrun', 'sandwichchat', 'dwarfism', 'whenishl3', 'kichuku', 'vintj', 'europeanationalism', 'tumblrhelp', 'sleepparalysis', 'journeytothetop', 'multitools', 'uleth', 'redditapp', 'thisismylifenow', 'talesfromthestudio', 'thepodcastshow', 'tlon', 'omega0678', 'mialbowy', 'buymybook', 'evangelikalismus', 'trulyterrible', 'sync_ios', 'historypornstache', 'steven', 'headperson', 'amaa', 'braveryjerk', 'dofasco', 'shittyfunfacts', 'ellenpaoisabigcunt', 'tuglife', 'madazzahatter', 'amateurwriting', 'birbs', 'johor_bahru_malaysia', 'grotesquevocabulary', 'dmjunkies', 'stremio', 'syfil', 'naturalparenting', 'thewritersguild', 'musicrewritten', 'lingreads', 'catfacts', 'neat', 'scientists', 'heycarl', 'writtenwyrm', 'smartereveryday', 'todayigrandstanded', 'fittofat', 'basementbiotech', 'fatepeopledate', 'anythinggoesultimate', 'moralkombat', 'stephensmemories', 'pp_tn', 'goldfuhrer', 'machineporn', 'nearlyfreebies', 'teenagerpolitics', 'nwarkansas', 'reasonableconspiracy', 'scifirealism', 'helpmeunderstand', 'antivax', 'gildedconspiracy', 'batmanarkham', 'auditing', 'nonverbalcomm', 'bored', 'asoldastheinternet', 'pogobat', 'sciencejokes', 'kimjongunicorn', 'hugofdeath', '9m9h9e9', 'writtentherapyproject', 'pluralapostrophe', 'edenrenellajones', 'corporatefacepalm', 'crypticmotive', 'zombiefarm2', 'storywars', 'mobilephotography', 'miniwritingprompt', 'wingsofglory', 'skyporn', 'advancedluciddreaming', 'bestofcirclejerk', 'ifiwonthelottery', 'cmd_reboot', 'greywolfwrites', 'fatalbert', 'stlouis', 'phascinatingphysics', 'wordcrafter', 'happenedondigg', 'wegmans', 'misanthropy', 'breakmycode', 'casualgames', 'legalcollegegirls', 'infraredsauna', 'wikiworldnews', 'crystals', 'awwwtf', 'healthymalesexuality', 'fatpeoplehate54', 'roostertube', 'quiteinteresting', 'ballers', 'redditnews', 'superjon', 'karmaindex', 'infinitefunspace', 'watisthisidonteven', 'thevampirediaries', 'unexpectedspringfield', 'thisismydeathnow', 'luciddreams', 'writingprompts', 'explainbothsides', 'howwastoday', 'gemspark', 'postandbanned', 'pamalamadingdong', 'pm_your__problems', 'wawa', 'teengirlswholikegirls', 'fuckthefinebros', 'feghoot', 'suicidegirls', 'suddenlyirealized', 'endlessplotline', 'ads', 'foodhacks', 'gandalfthehobbit', 'tekzilla', 'chemistry', 'geopolymer', 'theuniversetree', 'davidfosterwallace', 'suicidepreventionres', 'lifeprotip', 'crossview', 'fignewtonfriends', 'wallpaper', 'meandadjokes', 'arthistorycirclejerk', 'hovercards', 'pararoo', 'thebrzezinskicycle', 'perfectloops', 'randomthoughts', 'haydayrecruit', 'alistsomewhere', 'u413', 'shitty_t_shirts', 'coupons', 'badliterature', 'sync_alpha', 'pareidolia', 'recruitinghell', 'tinyscales', 'badhistory2', 'anachronism', 'science', 'growinguppoor', 'fashwrites', 'observationskills', 'idiculouslyrich', 'fresh_funny', 'affairsinstorytelling', 'combinedgifs', 'letstryit', 'himym', 'askscifi', 'thinspo', 'hottub', 'bioshock', 'desiweddings', 'himntor', 'glutenfreecooking', 'adventurecapitalist', 'gorillarecipes', 'outsidemanual', 'shutupandtakemymoney', 'rage', 'fattesting', 'civilization6', 'dentalrdh', 'wediditreddit', 'neite', 'emptygames', 'jokes', 'planetaryannihilation', 'lakelaogai', 'unexpectedthuglife', 'sadcringe', 'poeslawinaction', 'loweffort', 'askgeology', 'mildlyreposting', 'aviationpics', 'periapoapsis', 'justbronythings', 'melissa', 'zwolle', 'shiteuropeanssay', 'jakeandamir', 'botsrights', 'habaneroofdoom', 'howwethink', 'anothga', 'ringaroundtheroses', 'reactiongifme', 'rightwing', 'milleuros', 'enoughpokemongospam', 'kra_gl_e', 'todayididfine', 'chinesehistory', 'fracturedphrases', 'riga', 'banditswrite', 'no_context', 'subredditpoetry', 'reddit_news', 'samwisegamgee42', 'anticonsumption', 'bestiality', 'darcygomez', 'teenagersmovienights', 'rhetoric', 'optimizedreality', 'tragicshortstories', 'conspiracyjoe', 'ama', 'futurologyappeals', 'thehedgehog', 'roadcam', 'storiesaboutkevin', 'thatincelblogger', 'calmhands', 'tree_fiddy', 'explainlikeimjive', 'pussypassneutral', 'sportsreference', 'asksocialscience', 'falseequivalency', 'nobackspace', 'shareastory', 'spinnerz', 'astrophotography', 'antiheroreborn', 'searchandrescue', 'cesky', 'socialliability', 'bookwormbeccy', 'icandrawthat', 'fucksgtstubby', 'remindsmorbach', 'n24', 'bipolar2', 'futurist_entrepreneur', 'worstofmspaint', 'study', 'grooveshark', 'thothdoeswriting', 'shitsassay', 'gilmoregirls', 'promptoftheday', 'scottbeckman', 'baconreader', 'jesuschristreddit', 'mubookclub', 'thedebatethread', 'craftycf', 'unconventionalmakeup', 'hitlerinsocks', 'click_klack', 'youshouldknow', 'animalbehavior', 'soviethistory', 'shitwehraboossay', 'terraforming', 'ella', 'd3js', 'mila_kunis', 'kingstonontario', 'stanfordcardinal', 'exosphere', 'scrubs', 'glutenfree', 'gifsthatendtoosoon', 'dataisbeautiful', 'imaginarymechs', 'fiftytreefiddy', 'trypophobia', 'eurocoinsurvey', 'scopegearbuysell', 'departij', 'cultofpeake', 'getoffyourass', 'thepeoplesbard', 'iditarod', 'thedepthsbelow', 'dealwithit', 'paulwheatonwatch', 'coolbutwhy', 'sociopath', 'zappa', 'yogahotness', 'commentchainruiner', 'tahrox', 'gamerprotips', 'longstabbything', 'obvious', 'badhistoryrebooted', 'badsubhub', 'landscapeastro', 'boringdystopia', 'mildlyinterestingiama', 's_lefort', 'roomba', 'vxjunkies', 'secrettestingbackup', 'bestofwritingprompts', 'prettygirlsuglyfaces', 'eyebleach', 'gonwild', 'reddithero', 'usasanime', 'haikyuu', 'vinylscores', 'forjamaica', 'waywardpines', 'stoneagetalk', 'airconsole', 'jakarta', 'noparticipation', 'prematurecelebration', 'sillydrawingscontest', 'alinakg', 'valuableideas', 'graphicalexcellence', 'toasterfucking', 'baader_meinhof', 'cloneisland', 'customconsoleshop', 'andrew__wells', 'hyperboria', '4chanm', 'cadeals', 'sabaton', 'teenagerscourt', 'psychsquad', 'truedetective', 'asmrreview', 'redditdata', 'antiantiantijokes', 'kcbartendersguild', 'getmestarted', 'reversegif', 'woof_irl', 'shittychangelog', 'littleaskreddit', 'sillyyaks', 'cringyroleplay', 'mildlydepressing', 'somebodymakethis', 'jellyfish', 'miles_allan', 'shittyadviceanimals', 'cheekycunt', '3825', 'lukeschwade', 'wtfdidijustread', 'go_on_adventurer', 'rarepeepees', 'askfuneraldirectors', 'samandpaul', 'peoplearethings', 'companion', 'casualiama', 'tigerbee_ent', 'simplydivine', 'hemingway', 'machinegraveyard', 'the_pack', 'coaxedintoasnafu', 'epic_boobs', 'controversialiama', 'noadmins', 'totallynotrobots', 'hampan', 'rottweiler', 'wouldyourather', 'ghost_write_the_whip', 'awkwardmoment', 'tenninetythreewrites', 'wheredidthesodago', 'mastersofsex', 'purplenews', 'askshittyscience', 'disciplesoftotes', 'bestofreddit', 'ulobmoga', 'junctiongate', 'hoco', 'coxcommunications', 'bearjokes', 'comedynecrophilia', 'prequelmemes', 'translationstudies', 'fringescience', 'drawmydog', 'duckduckgo', 'redditpuns', 'nightmares', 'flaggyflag', 'fireporn', 'xcessivewriting', 'speculativehistory', 'nomansskyanimals', 'knightsofpineapple', 'thingswayfairerknows', 'schoolgirlerror', 'askreddit', 'kcbailiffunion', 'weexistnow', 'zugorphans', 'redeye', 'cthulhu', 'theydidthenotes', 'nautical', 'poamcstwd', 'niuniverse', 'fakecontext', 'braincancer', 'bestofcracked', 'underarms', '13reasonswhy', 'girlguidetoautism', 'explainsremovals', 'firstworldanarchists', 'neverprivate', 'captain_club', 'cseli5', 'killoggs', 'eradicateislam', 'dolphinconspiracy', 'lightbulb', 'herestothecrazyones', 'jhdierking', 'recursion', 'telescopes', 'jmu', 'shittyoutoftheloop', 'wholesomememes', 'therandomizer', 'oviposition', 'evolution', 'greysanatomy', 'trueaskreddit', 'tindersupport', 'photoessay', 'pandoraautumnswriting', 'educational', 'ourperpetualexemption', 'jessicarobbin', 'doodads', 'erotitravels', 'louistheroux', 'tobecontinued', 'weaving', 'misdirection', 'talesfromyourserver', 'rulenumbertwo', 'africanhistory', 'declineporn', 'fapmann', 'personalfiance', 'projecterddos', 'shittyaskchef', 'antimatterindustries', 'degrassi', 'fatguysinfedoras', 'dumbassholesofreddit', 'blowingsunshine', 'petition', 'internetama', 'kutleven', 'askvoat', 'regensburg', 'teefies', 'veteransresources', 'hemochromatosis', 'thefinaljoke', 'reportthespam', 'novabluecreations', 'mightyno9', 'totalwarhammer', 'annaiswriting', 'worststory', 'mrtubtub', 'thesecretforum', 'nsfworldtour', 'mysteriousyoutube', 'historywhatif', 'titlegore', 'outside', 'redditsync', 'henrycorpincllc', 'chinohills', 'cityporn', 'page0rz', 'roastmycar', 'gumball', 'springfieldmo', 'whatmygeesesdidtoday', 'workaholics', 'liswrites', 'idiopathichypersomnia', 'everymanshouldknow', 'ageplaypersonals', 'mh370', 'dialysis', 'killthosewhodisagree', 'dundermifflin', 'ants', 'athensohio', 'brownspectacledbear', 'talesofpawnstars', 'cheapnikeblazer', 'lost_2', 'tonr', 'whatcouldgowrong', 'finishinthecomments', 'uncertifiedlaw', 'casualgrilledcheese', 'claimedresponsibility', 'snuspasarna', 'cyborgs', 'glitchinthematrix', 'yorkie', 'googleglassdev', 'spumwack', 'iamnotverysmart', 'tentai', 'skookum', 'physicsforfun', 'wwiihistory', 'gifrequests', 'lizardsquad', 'xambassadors', 'googletime', 'ealised', 'fornipplepoop', 'lovecraftianwriting', 'ancientrome', 'frisco', 'thenumberpi', 'askdemocrats', 'atlantaeats', 'thesefuckingaccounts', 'deepdreamified', 'aboutcatsstandingup', 'newslangterms', 'hitlerbotv', 'foreskin', 'paradoxes', 'vzla', 'cryptozoology', 'c137', 'civ5', 'woodyslab', 'ilovemywife', 'mimp', 'discussion', 'legostories', 'misophonia', 'aristotle', 'prisonarchitect', 'examplebot12348', 'goodshitpasta', 'grammarnazi', 'lazy', 'interestingarticle', 'piratekingomega', 'news', 'jimlast3', 'programmerdadjokes', 'ebaysucks', 'hugoflove', 'polish', 'karmacourtattorneys', 'ghostpepper', 'redditwritesfriends', 'astraltraininglog', 'vertigo', 'qualitysocialism', 'thermostat', 'makefetchhappen', 'aiws', 'mensa', 'shitquangsays', 'laxariawrites', 'tankporn', 'theflealee', 'pretoria', 'denversciencemarch', 'handball', 'awesometrinket', 'firstworldproblems', 'chokingvictimwrites', 'deadspace', 'jailu', 'algebrathings', 'clashbandidos', 'alexis', 'wodenswritings', 'photographica', 'afterschaaf', 'highschoolfootball', 'crd', 'choosingbeggars', 'meneoftheday', 'arcelormittal', 'tenwordsofwisdom', 'spam', 'imagesofthe1950s', 'writingpromptwannabe', 'peoplefuckingdying', 'wili', 'pic', 'sdfnkl', 'vanessahudgens', 'xxstem', 'smashmouth', 'expectationvsreality', 'dubbedgifs', 'anthropology', 'softwaregore', 'lifeinapost', 'wayforward', 'gostsarereal', 'ant', 'wimpjerk', 'poorlythoughtoutcode', 'reditr', 'liamariejohnson', 'sanspantsradio', 'circlejerkcopypasta', 'loseit_movember', 'redditliars', 'gggg', '1_stormageddon_1', 'collarbonefantasies', 'skyrimdadjokes', 'steelicarus', 'lightningdogs', 'kiljoysglyphs', 'sarkasticwatcher', 'askaliberal', 'cheesemaking', 'bvbcopypasta', 'dragneel', 'accessibility', 'szechuansauceseekers', 'cosmos', 'futurologytest', 'dadreflexes', 'chernobyl', 'dziadek1990', 'yomomma', 'thepenandsword', 'onemoreguy', 'aznlivesmatter', 'shanix', 'mechanicalkeyboard', 'documentaries', 'writingadvice', 'conspiracypredictions', 'tad', 'nocontextnews', 'newsofthestupid', 'jeq', 'twdroadtosurvival', 'amaar', 'higurashinonakakoroni', 'physics_awt', 'wholesomecopypasta', 'nacilisto', 'subreddits', 'realitytvisfake', 'iasip', 'femaleoutfits', 'subbymcsubface', 'redditsafe', 'magnetfishing', 'penoftherod', 'askashittydoctor', 'dippingtobacco', 'warthunderskins', 'redditforgrownups', 'kauyonkais', 'coldwar', 'redditwritesrm', 'therpf', 'counting_in_the_wild', 'anglinaz', 'physicslectures', 'theinfection', 'taxonomy', 'sdj67writes', 'r4rasian', 'davidcook', 'unsubbed', 'linustechtips', 'quivorian', 'pubby88', 'hailmilitary', 'truetrueaskreddit', 'comcastnazi', 'sanctuaryoftheexiles', 'yoursub', 'resonatingfury', 'nuclear', 'about4001llamas', 'megamanlounge', 'circlebroke2', 'cringetale', 'fencing', 'papertowns', 'woowoo', 'urbanhell', 'visualization', 'shittitle', 'opiwrites', 'streetfights', 'truechildfree', 'avukamu', 'tangentiallyspeaking', 'gamehelp16timeline', 'jidfinaction', 'grindsmygears', 'badarthistory', 'gamereviews', 'expressionecrite', 'musicnews', 'zanesville', 'kelowna', 'wtftext', 'mildlyinteresting', 'girlmeetsworld', 'familiesyouchoose', 'nfja', 'cia', 'badthreads', 'obrokeobroke', 'tididntwanttol', 'shittypokestops', 'chasingcorriemckeague', 'bathbomb', 'birdstakingthetrain', 'imaginaryforests', 'astralprojectionnow', 'unclephil', 'invisiblebicycles', 'facepunchprototypes', 'subdermalmagnets', 'wheelchairs', 'madlads', 'thetruthishere', 'neildegrassetyson', 'silhouettestories', 'lefthistory', 'todayiwon', 'evenwithohokay', 'system0101', 'droptoprocket', 'yourghoststories', 'neggareddit', 'rickandmorty_c137', 'unexpectedfactorial', 'whatsmyimpression', 'thiswasdownvoted', 'asksciencefiction', 'chocolatechipwp', 'kiteboarding', 'coh2strategy', 'reddittolerancecorps', 'overcomplicatorsllp', 'talesfromthepizzaguy', 'forcedpuns', 'shitgreeddisastersays', 'xmo_test', 'cazzette', 'mineralporn', 'spacequestions', 'pics', 'norules', 'atempest', 'natureisfuckinglit', 'gardenofstars', 'placeholdersinc', 'analyticalwriting', 'shitstatistsay', 'fourthwalltactics', 'vine', 'gso', 'solipsism', 'breathinginformation', 'techofthefuture', 'botwatchman', 'goodnews', 'trevor', 'fatfartingass', 'rizon_writing_sandbox', 'themightywriting', 'cheesepasta', 'tifu', 'stabilizedgifs', 'standupshots', 'awesome', 'tallgonewild', 'geraffesaresodumb', 'oceandrones', 'nocontext', 'tetrisarmadatypes', 'oneupme', 'lifehacks', 'unitedwestand', 'justsomerandomstuff', 'shitpost', 'toughbutworthit', 'karmaprotips', 'southpark', 'iolpio_and_banana', 'iwannalearnchemistry', 'moistducks', '2klegendsleague', 'prostatitis', 'selfdrivingcars', 'bythemods', 'exonumia', 'drunkencookery', 'yarnhouses', 'giveaway', 'dogberg', 'pixeltalker', 'michiganforsanders', 'youtubeviews', 'hhsrocketry', 'historyporn', 'foodhaikus', 'bestofrelevantun', 'uofi', 'karmamarketswings', 'caregiversofreddit', 'castmeas', 'justunsubbed', 'kentucky', 'darkdescriptions', 'unloquacious', 'redneckengineering', 'roommatepolitics', 'celsius232', 'theoryofpropaganda', 'pitchforkemporium', 'americanproblems', 'letsmakethisathing', 'freelancer', 'tomnoonan', 'lifeguards', 'skyrise', 'tessmess7en', 'mildredditdrama', 'russianstories', 'mildlybrilliant', 'boyinaband', 'evilbuildings', 'blakester731', 'deviouslifehacks', 'antimemewatch', 'im14andthisisdeep', 'dutch', 'flagermus', 'basilwhite', 'thescienceofdeduction', 'kevin', 'webseries', 'hohsi', 'dazesoft', 'mildyinteresting', 'raydonovan', 'kaigainohannou', 'nooneaskedforthat', 'askmadscience', 'specorgcorp', 'the_modern_chair', 'latenight', 'turtlefacts', 'andomboltsfan', 'frugalhouston', 'fellowkids', 'howimetyourmother', 'perfectgifs', 'animalpornsubreddit', 'honeyvinegarlawfirm', 'lightning', 'halloween_costumes', 'freemasonry', 'niedski', 'jamaican_dynamite', 'stumpt', 'iowacity', 'askmoderators', 'redditsmuseumoffilth', 'spacevideos', 'theshitiestofstories', 'darkjedibrotherhood', 'coloredink', 'outoftheloop', 'horn', 'thingsmatthieufound', 'inooxwritings', 'lexilogical', 'karma42_private', 'vietnam', 'askanthropology', 'bigj76', 'awesomeideas', 'ripplesandwaves', 'harborfreightgore', 'mishacreatesmadness', 'ubu_langhorne_sam', 'thewriteraleph', 'astoryappears', 'coryjerk', 'manchildlifehacks', 'tautology', 'lastfmarmy', 'panoramicgifs', 'thealcove', 'shareyourtwocents', 'not1hour', 'morbidlybeautiful', 'metalexplanations', 'vigilante', 'alienblue', 'getthatguyabeer', 'karmapolicedepartment', 'paleontology', 'syraphia', 'baththoughts', 'thesinglepact', 'americangods', 'desmoines', 'sexpositive', 'david_mitchell', 'ca_twitter', 'kingofthehill', 'keep2learn', 'thedeadwest', 'hailmarketing', 'kansas', 'remixthis', 'tamiveldura', 'cswchunk', 'videosthatendtoosoon', 'casualpropaganda', 'redditjunkiesspace', 'shittyconspiracy', 'cosmology', 'potverdoriefeiten', 'colorizebot', 'louisck', 'thecoverstory', 'sociology', 'coolslogans', 'craptastik', 'amscrisasta', 'annarbor', 'historynetwork', 'paducah', 'fifthworldpolitics', 'truetravel', 'musicalchallenge', 'learndutch', 'imadesomeonelaugh', 'policesketchme', 'unprovenscience', 'lesecretsubreddit', 'showerconspiracy', 'sentencegore', 'warthunder', 'shockwaveporn', 'theoreticalissuessig', 'increment_the_number', 'mvdww', 'fuckcannotlol', 'snowplow', 'storiesbycyrdaan', 'testslideforreddit', 'duelingcorner', 'afterlodge', 'cooperation', 'dogetipgroup', 'upholsterycorrection', 'forjamaicasmom', 'funnyandsad', 'eproctophilia', 'molejokes', 'western_mass', 'ill_brain_insights', 'conspirators', 'fifthworldpics', 'notcleverorcoolenough', 'karmaconspiracy', 'gonewildcurvy', 'thenightmarefactory', 'quarterlife', 'de_writingprompts', 'cucumbersscaringcats', 'badelf21', 'minionhate', 'flyingnarwhal', 'hamiltonmusical', 'goldcointip', 'conantravels', 'deathlings', 'birthday', 'youtubehaiku', 'juststemthings', 'aquascape', 'anosmia', 'educationalgifs', 'showerthoughts', 'shitleeaboossay', 'negareddit', 'badreligion', 'cadia', 'unhistory', 'withrice', 'poopvandals', 'ik_ihe', 'awww', 'twowordseach', 'ourengifriend', 'explainlikeannpc', 'horror_author_jmm', 'self', 'hotukdealsuk', 'notbirdswitharms', 'solidwhetstone', 'scootrrichards', 'isitbullshit', 'getcrabby', 'offbeat', 'skydiving', 'aal', 'redditoroftheyear', 'brokengifs', 'asktechnology', 'neologisms', 'newmisanthropy', 'f7u12_ham', 'putadickonit', 'livetweetingoldmovies', 'internet_box', 'spambotwatch', 'whatagaywriter', 'thedarkgathering', 'warsar', 'heinlein', 'maniacmansion', 'showertoughts', 'nonfictioncreepy', 'shihtzu', 'comedycemetery', 'hubposts', 'gibberish', 'harambe', 'lovetv', 'chocolate', 'muhfeelings', 'eulalia', 'oopsdidntmeanto', 'warthundercirclejerk', 'pineapplehate', 'cutekids', 'franzferdinand', 'offdutybraziliancop', 'hotshark', 'aidanpics', 'findasubreddit', 'grocerystores', 'gifs', 'foundongooglemaps', 'caricevanhouten', 'femalesleuths', 'ulyssesbucketlist', 'redditinjokes', 'adultbedwetting', 'video', 'astralprojection', 'candidfashionpolice', 'freeforall', 'crowdprompts', 'a4no', 'dadurkshadow', 'surrendertothevoid', 'callofresponsibility', 'expectedplottwist', 'stonerphilosophy', 'amateurfights', 'opensourcetextbook', 'arfid', 'althistory', 'imacuntandthisiscunt', 'newworldorder', 'scients', 'lordkeanu', 'eyeshakers', 'usbedc', 'temmie', 'screenshots', 'ripuser', 'fleshgait', 'map_porn', 'glue_reviews', 'aggta', 'siue', 'titlelyaward', 'lazycats', 'images', 'rpgvo', 'raisingreddit', 'whatami', 'cyberdildonics', 'legendarylea', 'foxes', 'game_gear', 'dootless', 'necromorphs', 'getoffmyfoot', 'raining', 'montageparodyparodies', 'sharktank', 'cultofdrillovr', 'asaperson', 'storysurges', 'chibitcommunity', 'fakeredditaboutcars', 'unnerving', 'clapposts', 'johnaddis', 'toomanypillows', 'warsaw', 'dankmemesmeta', 'oneyearon', 'cropasta', 'collegehumor', 'christients', 'sens', 'writingwolf', 'nowwhatdidwelearn', 'anarchychess', 'awakestories', 'oldschoolcoolnsfw', 'connor', 'bengalcats', 'tinder', 'prorevenge', 'leloungegeneration', 'eggcorners', 'conversiontherapy', 'todayiinvented', 'svsmp', 'greek', 'tianjin', 'submarineapp', 'thathappened', 'dudeism', 'broccoli', 'pcdeals', 'vencirclejerk', 'haroldporn', 'jailbreakrequests', 'nudism', 'ultimatebabadook', 'bankingclanmemes', 'rubberducks', 'sciencechallenge', 'fairygodmother', 'hilariousporntitles', 'bluemountains', 'thechurchofrogers', 'redditreddit', 'honeymoonplanning', 'wackytictacs', 'islandnomore', 'kccouncil', 'sundogs', 'republicofnews', 'luciddreaming', 'subredditsimmeta', 'colinslaststand', 'kic8462852', 'aphantasia', 'dementia', 'publicselfdefense', 'mildlypenis', 'wafflescat'}\n",
      "Community 2: Size = 956\n",
      "   Nodes: {'redditeu', 'anythinggoesnews', 'takeittorcirclejerk', 'srsmeta', 'badstats', 'blackcrimematters', 'ideasfortech', 'ohthatwasme', 'foodnews', 'whitemalepride', 'bestofreports', 'negativewithgold', 'uncensorednewssucks', 'yandere_simulator', 'wildnews', 'nycsports', 'justiceserved', 'altrightwatch', 'europeannationalism', 'terrorwatch', 'hiltonhead', 'pinac', 'the_rez', 'megalithporn', 'politicalactivism', 'badmods', 'tulane', 'shitthefalsesay', 'intrusivethoughts', 'trdump', 'deadliestcatch', 'news1', 'siliconvalley', 'truefemalesupremacy', 'limpwrist', 'thepopcornstand', 'notallmen', 'customsmb', 'ancapgaming', 'rpdrfanart', 'gymnastics', 'ncpolitics', 'downvotetrolling', 'conspiracyx', 'cssban', 'paoyongyang', 'notyourmothersreddit', 'cricket', 'datgap', 'triangleteammystic', 'againstallarchons', 'newbraunfels', 'allforall', 'undelete', 'antisjweuropean', 'foodnotbombs', 'riptodayilearned', 'shitrconservativesays', 'accidentalrenaissance', 'banned', 'yescalifornia', 'texaschl', 'askstrawfeminists', 'politics', 'tumblrpls', 'amifreetogo', 'bad_cop_no_donut', 'potuselection2016', 'fallout13', 'beernerd', 'antifeminist', 'watchmebanyou', 'legisleuth', 'kirkit', 'boise_idaho', 'childrensactivism', 'talltales', 'sanmarcos', 'mississippi', 'politicaldiscussion', 'amihot', 'rollercoasters', 'bushwick', 'srsmicroaggressions', 'americanpolitics', 'complainaboutnyc', 'nameaserver', 'the_denial', 'deadpanhumor', 'deletenothing', 'againstmensrights', 'askadmissions', 'ccjccj', 'mensglib', 'ellenpaosupport', 'metafeminism', 'prochoice', 'pussypass', 'thisisnotagame', 'bernie_sanders', 'bluesrock', 'speedrun', 'prsh', 'arminius_saw', 'palsbarainaction', 'game0fdolls', 'src_meta', 'idontlikerpolitics', 'facebookreddits', 'youarenowbanned', 'rightwingtransgender', 'alabama', 'livestreamfails', 'millenniumfalc0nfacts', 'antifeminists', 'scad', 'shitmormonssay', 'wanderersownsubreddit', 'geolibertarianism', 'politicallyincorrect', 'fatpeoplehate69', 'sanders4presidente2', 'illuminatedcandle', 'minneapolis', 'marchforscience', 'rpdrstream', 'penispassdenied', 'trollmeta', 'csi18n', 'drydockporn', 'thegirlsurvivalguide', 'media_criticism', 'snowdensofyesteryear', 'femmethoughts', 'oppression', 'meridian', 'mensrights', 'spencer', 'mslibertarians', 'serious_gaming', 'ayylpao', 'downvotesreally', 'againstthechimpire', 'redditcritiques', 'underconstruction', 'subreddit_stats', 'jfk', 'tagprosecretsanta', 'trollxchromosomes', 'garyjohnson', 'calloutableists', 'girlswithneonhair', 'seattletransparency', 'maturechat', 'austinstartups', 'libertarianpartyusa', 'vinaykumar', 'conservativesonly', 'speedruncelebrities', 'hasaan5', 'rulefollower', 'thealtright', 'panichistory', 'insertions', 'astoria', 'hillary_for_prison', 'shitthoraboossay', 'backupantisrs', 'subredditdramadrama', 'mensliberation', 'techolitics', 'robotbanna', 'austrian_economics', 'scottishpeopletwitter', 'td_uncensored', 'srswomen', 'srssucks', 'politic', 'savingchase', 'breastcancer', 'politicalvideo', 'altright', 'usnews', 'rudrugs', 'indiana', 'copwatch', 'debatealtright', 'debateamrsucks', 'hacktivism', 'insanepeoplefacebook', 'cyberlaws', 'creepypms', 'rpdrcirclejerk', 'wwiiplanes', 'titrcfacts', 'shittykickstarters', 'ithaca', 'summerreddit', 'hexag1', 'chivalrygame', 'redditbomb', 'twincities', 'nationalsocialism', 'monsanto', 'cynicalbritofficial', 'mra', 'srsredditdrama', 'realpussypassdenied', 'supportingmen', 'the_donaldunleashed', 'preservingourliberty', 'thecinemassacre', 'desksetup', 'codenameintrepid', 'removalbot', 'askflytape', 'star_wars_battlefront', 'shittychangemyview', 'watchredditdie', 'tiamythos', 'depthhub', 'trtest', 'xkcd', 'islamunveiled', 'whitepeoplegifs', 'freehans', 'tpwisafuckingbitch', 'progressive', 'mensrightslinks', 'ellenpaoinaction', 'hartofdixie', 'vaccinemyths', 'politicaldiscussmeta', 'careerwomen', 'lgbtyranny', 'twoxchromasomes', 'mrselfpostcopies', 'debateamr', 'blackout2015', 'adminmythos', 'prophecy', 'shitlewissays', 'socialjustice101', 'foodforthought', 'bannedfeminists', 'newhampshire', 'austin', 'metareddit', 'anarcho_fascism', 'woodburyct', 'rpdrtearanny', 'fitshionvsfatshion', 'girlsnightoff', 'zeldatattoos', 'anti_feminism', 'alt_right', 'libertarian', 'speedrunmeta', 'badsocialscience', 'bringbackpao', 'learntobot', 'samandtolki', 'meta_meta_feminism', 'irbyslaw', 'imgurnazi', 'truegaybears', 'whatisaleppo', 'op_jade_helm_16', 'thingsredditdoes', 'tech', 'brynn_rumfallo', 'kasichforpresident', 'angrybrds', 'smbccomics', 'indianafishing', 'againsthatesubreddits', 'srsfunny', 'preech', 'bodilyautonomy', 'eugenenix', 'borntoday', 'horrorarticles', 'truewomensliberation', 'metaforall', 'unexpectedjihad', 'srsquestions', 'fishies', 'race_reality', 'fatepeoplehate', 'austinfood', 'libertarianmeme', 'zach', 'reclaimtheholyland', 'creepypmsanarchy', 'themissing', 'agingredditors', 'canadianbroadband', 'unremovable', 'wicro', 'pokemonhq', 'fucktheredpill', 'indianpeoplefacebook', 'truealtright', 'shittumblrsays', 'twoxchromosomes', 'newyork', '20thcenturyexperiment', 'austinclassifieds', 'enoughctrspam', 'rpdr_heathers', 'bluemidterm2018', 'thecinemassacretruth', 'cricketshitpost', 'rpcsstest', 'ukundelete', 'outerwilds', 'metahub', 'trueoppression', 'truecreepypms', 'hatesubredditoftheday', 'lewisspears', 'psystarcraft', 'detransitioning', 'klawehtgod', 'bannedfromkia', 'esist', 'covington', 'transphobiaproject', 'polycentric_law', 'modlog', 'dickbuttbillboard', 'mortalkombat', 'tsunderes', 'spacextalkopenforum', 'uspolitics', 'quityourbullshit', 'everything', 'anarcho_reaction', 'enoughsandersspam', 'occupywallstreet', 'aaron', 'chilis45thandlamar', 'little_hands', 'magajuana', 'trumpnicknames', '5050ism', 'provictims', 'windowshots', 'wishtoknowmore', 'fbcopenmodmail', 'livestreamfail', 'accidentalbaroque', 'ellenpage', 'moderationlog', 'fatpeoplehate66', 'metattr', 'austincirclejerk', 'italian', 'feminismformen', 'tiap', 'lanosparteis', 'askaustrianeconomics', 'goldandblack', 'srssocialism', 'nycapartments', 'voat', 'endlesswar', 'politicalhumor', 'facebookdrama', 'twincitieshousing', 'spinnelein', 'runindy', 'tcsbookclub', 'ballotaccess', 'zbrush', 'manliness', 'deletedthread', 'information_control', 'worstof', 'workingtowardhealthy', 'amrmythos', 'conventionofstates', 'redpilllit', 'petitegonewild', 'ssrssasrs', 'srstechnology', 'anonymous123421', 'wyboth', 'friendly_reminder', 'amhacked', 'spezmustgo', 'iowa', 'dataanalysis', 'shitimperialistssay', 'srsexplained', 'learntocodenyc', 'rpi', 'brooklyn', 'elkhart', 'askfeminism', 'ainbow', 'trumpquotes', 'srdreactiongifs', 'coilgore', 'longtail', 'transfascism', 'okwu', 'aggies', 'imzy', 'nimbleamerica', 'arguments', 'nhbeer', 'jonstargaryen', 'censoredbyfeminists', 'waifuismth', 'thetransphobiasquad', 'dukbcaaj', 'ancap_poetry', 'austinyoga', 'metroidvania', 'truckers', 'emmablackery', 'publicfreakout', 'new_right', 'ismailis', 'starlets', 'fourleafstudios', 'lgbtopenmodmail', 'gunsarecool', 'avfmhotlinks', 'topcuntsofreddit', 'incelwatch', 'justshillthings', 'bestofworldstar', 'concentrationofwealth', 'censorship', 'libertariancopypasta', 'rational_liberty', 'nsfw_tumblr', 'disrupttrump', 'savemysubreddit', 'elsbot', 'astrophysics_rehab', 'pcos', 'libertarianbestof', 'shittheadminssay', 'deereatingchairs', 'utahpolitics', 'whitebeauty', 'falsecrush', 'olympics', 'fox', 'hillaryclinton', 'famnnfp', 'timanderic', 'askrussia', 'secession', 'theslashering', 'drama_watch', 'ladymras', 'lol', 'swg', 'shaboozey', 'irc', 'semebay', 'hypocrisy', 'soapbox', 'antirandsquad', 'maydaypac', 'isernamequery', 'gopdebates2016', 'twincitiessocial', 'nsfu', 'bringbackreddit', 'takeonestepforward', 'whitepeoplefacebook', 'moviedicks', 'truereddit', 'deletedvideos', 'nazihunting', 'biglittlelies', 'politicsdebunked', 'iscuck_bot', 'quotebattles', 'altnewz', 'npv', 'public_reddit', 'metaconservative', 'thedonald', 'publichealthwatch', 'projectrunway', 'libertariandebates', 'menslib', 'redditminusmods', 'stuff', 'shitguncontrollerssay', 'rpdrfantasyseason', 'flf', 'inthenews', 'supermeatboy', 'enddemocracy', 'ohlympics', 'enoughtrumpspam', 'askfeminists', 'wearytunes', 'animalporn', 'u_kn0thing', 'sanda', 'voaters', 'encyclopediadramatica', 'killallmen', 'cynicalbrit', 'enoughlibertarianspam', 'ghostbusters', 'southcarolina', 'ohio', 'officialafs', 'sjwhate', 'the_politics', 'snew', 'femslib', 'askaconservative', 'losttoucans', 'enoughmolyneuxspam', 'fulltvshowsongoogle', 'megturney', 'vegproblems', 'liveleak', 'houstonsciencemarch', 'shitstatistssay', 'birthcontrol', 'olympicgamesbids', 'rightwinglgbt', 'yougottold', 'jasznewscuration', 'werthaminaction', 'seriousgaming', 'thisweekintech', 'whothefuckcares', 'subsbansubs', 'holdmyfries', 'imbannedfrom', 'righttoremainsilent', 'fuckredditmods', 'forwardsfromredacted', 'whatcanwedo', 'austinpoker', 'srsmythos', 'gradeaundera', 'literallykesha', 'atxpix', 'health', 'ancapraxis', 'narrativeimmunenews', 'thetretheway', 'trtest2', 'scbt', 'facebookcringe', 'undeleteshadow', 'randpaul', 'bestofthefray', 'libertarianfeminism', 'bestofoutrageculture', 'middletownohio', 'endfptp', 'normalbob', 'trumpforprison', 'sep2015event', 'democrats', 'snapshillbotex', 'socialjustice', 'evansville', 'mractivism', 'thenewcoldwar', 'q3p498gtn7b', 'mastercardpriceless', 'dickshowofficial', 'netizeit', 'r_hak', 'politicalmoderation', 'cascadia', 'shitlibertariansay', 'vazdas', 'watchpeopledie', 'ballarat', 'indepthstories', 'cmonreddit', 'mistyfront', 'indivisibleguide', 'topmindsofreddit', 'physical_removal', 'relevantxkcd', 'srssucksbroke', 'inactiontown', 'spacextalk', 'bedstuy', 'calculationproblems', 'assholes', 'ss31', 'dzogchen', 'tumblratrest', 'rpdrbussybois', 'srsliberty', 'austinketo', 'vivagraveyard', 'humanporn', 'newportky', 'fatpeopleha', 'whowillbuildtheroads', 'failsonstream', 'offensivespeech', 'colamakerspace', 'sycophant', 'kungfu', 'waifuismlounge', 'hifw', 'heforshe', 'srpols', 'invadercrimesmatter', 'protectandserve', 'ancap_bestarguments', 'israelpalestinefacts', 'enoughtalkradiospam', 'pol__invictus', 'wft', 'mildconspiracy', 'uncensoredwikileaks', 'boocredux', 'mensrants', 'almosttheonion', 'zoink', 'mensrightsmeta', 'metacancersubdrama', 'maleprivilege', 'metasrdd', 'utaustin', 'reddithistorylessons', 'whatwouldtrumpsay', 'hanselanime', 'socialmediasluts', 'angrymail', 'bastroptx', 'quinnspiracy', 'justin', 'usps', 'liberal', 'samuel', 'democratscirclejerk', 'picklemilitia', 'petitiontoresign', 'hillaryforamerica', 'scott', 'dragracefanfiction', 'political_discussion', 'bannedfrompolitics', 'redpilldrops', 'srsdcirclejerk', 'swirlds', 'redditendgame', 'safespaceinfowar', 'seattleevents', 'uncensorednews', 'nky', 'redditmade', 'amibeingdetained', 'whiteprivilege', 'dailyshow', 'theyoungturks', 'srsmen', 'conservativemeta', 'anybodybuthillary', 'ellenpaohate', 'greeklife', 'wherearethefeminists', 'parenthesisbot', 'strong_women', 'gwu', 'topredditposts', 'sexism', 'mnbarcraft', 'northernaggression', 'minecraftmodder', 'abovetheboard', 'dessystestsub', 'test3', 'lawlzformod', 'frontfootporn', 'banneddomains', 'srsfeminism', 'bettereddit', 'eugenics', 'squatters', 'theworldnews', 'twerking', 'donewithtrump', 'astrophysics', 'countdown_to_failure', 'thecoli', 'weheartrawb', 'waifuism', 'leftistconversation', 'morality', 'nerdcubed', 'removedcomments', 'subredditanalysis', 'srssex', 'redditcensorship', 'everett', 'redditloyalists', 'metafilter', 'letsridetogether', 'trollxmeetups', 'subredditcancer', 'lolgrindr', 'politicscirclejerk', 'shiteiraboossay', 'politicsunleashed', 'polfacts', 'shit_ets_says', 'bblegacy', 'asktrollx', 'modclub', 'whoworeitbetter', 'full_news', 'donaldvshillary', 'cincinnati', 'todispensaries', 'badeverything', 'dbcdraft', 'thanksobama', 'politicalopinions', 'assignedmale', 'spoilanything', 'gatekeeping', 'celebritybutts', 'rupaulsdragrace', 'antitax', 'raldi', 'imnosjwbut', 'neoconservative', 'kryptguide', 'nudelete', 'conservativelounge', 'trollychromosome', 'testsubreddit123321', 'mirageaw', 'creepypm', 'megathreadideas', 'climatskeptics', 'punishandenslave', 'baddoctornostetho', 'offmychestuncut', 'worldpolitics', 'cancermods', 'indianapolis', 'internetcollection', 'hatesubsinaction', 'donaldtrump2016', 'mrref', 'morgopolis', 'scientistsmarch', 'soapboxbanhammer', 'bidenbro', 'trumplivesmatter', 'srsmailbag', 'rgolfopen', 'lessig2016', 'randomactsoftrollx', 'lgbtaspies', 'rconservativenews', 'comments', 'shitanarchistssay', 'srsdiscussion', 'checkyourjohnson', 'dataconspiratardshate', 'truecels', 'dogandduckpub', 'directaction', 'antitrumpalliance', 'antisrs', 'nyccars', 'calexit', 'standwithrand', 'enoughinternet', 'xcountryskiing', 'askaustin', 'pussypassdenied', 'amrsucks', 'badpoliticalfanfic', 'topofreddit', 'greenwoodin', 'shitpoliticssays', 'officialafsarchive', 'exismailis', 'worldsports', 'not_me_atm', 'ancap_futurology', 'ashleymadisonhack', 'iamverydumbass', 'econophysics', 'louie', 'bbuk', 'truewhite', 'chabanais', 'subredditdramacubed', 'srsanarchists', 'iamverymoney', 'adeadhead', 'enoughlibertarians', 'littlereddot', 'officialdp', 'fuckthealtright', 'entertainment', 'askfemmethoughts', 'bibleexegesis', 'bettersubredditdrama', 'austinmusicians', 'tgspodcast', 'anthony', 'hotchickswithtattoos', 'uncen', 'askanadmin', 'trumpgret', 'rpdrdrama', 'bestoftypos', 'corvallis', 'subfornoreason', 'orvilleawards', 'shitredditsays', 'feminisms', 'libertarianaustralia', 'smugredditdrama', 'biloxi', 'conservative', 'adminfanfics', 'primaryrace2016', 'quityourhonesty', 'joshgordon', 'prolife', 'anarcho_capitalism', 'finishthatpicture', 'kaalaaaa', 'tulpa', 'daria', 'vaccines', 'racism', '2d_love', 'oppressionmeta', 'brakeforcake', 'asablackman', 'desktopdetective', 'ancapcopypasta', 'mortalkombatx', 'whiteknighting', 'haesisbullshit', 'godus', 'circlejerknyc', 'shittyrupaulsdragrace', 'austinscavengers', 'youbigot', 'thedonaldmemedump', 'abortion', 'metatruereddit', 'ispcu', 'gengar11hateswomen', 'christian_ancaps', 'ssrss', 'opencarry', 'delete_the_donald', 'ripworldnews', 'outoftheccloop', 'therecordcorrected', 'anarchistnews', 'asknyc', 'feminism', 'drama', 'currentgeek', 'torinaction', 'amici_ursi', 'whiterights', 'speedruns', 'askinsurance', 'askgsm', 'marchagainsttrump', 'newreddits', 'shittymorph', 'frat', 'fuckcoontown', 'classicsubredditdrama', 'topmind_amas_debates', 'eaglelibrarian', 'mattophobiamemes', 'rpdrofftopic', 'deadpoolshould', 'boise', 'gue', 'nomanssky', 'justnashmanthings', 'biggestproblem', 'badredditnogold', 'ss13', 'asianmartialarts', 'metasubredditdrama', 'iamverybadass', 'enoughhillhate', 'activemeasures', 'egalitarianism', 'nyc', 'conservativelgbt', 'papajohns', 'incelpurgatory', 'political_bullshit', 'orangechat', 'bearsdoinghumanthings', 'autotldr', 'natureisbrutal', 'greenbay', 'kristenstewart', 'abetterworldnews', 'meta_feminism', 'leakeverything', 'fiji', 'tailsonmac', 'subredditdrama', 'freethetranscripts', 'iffeministsweremras', 'als', 'no_sob_story', 'anti_trump', 'superspacestation', 'libertyworldproblems', 'genderegalitarian', 'europeinaction', 'gasthesnoo', 'badpolitics', 'postfeminists', 'oney', 'newhampents', 'natorussianconflict', 'subredditdramax3', 'texas', 'the_meltdown_meltdown', 'european', 'srsfartsandcrafts', 'donsguard', 'politicalfactchecking', 'deathbycirclejerk', 'lgbt', 'ryerson', 'sethbling', 'ss13circlejerk', 'squidward_irl', 'awfullypunchablefaces', 'bajiquan', 'iusedtobeagenius', 'askableedingheart'}\n",
      "Community 3: Size = 552\n",
      "   Nodes: {'barexam', 'comicbookmovies', 'ohboyson', 'flicks', 'dogecoincss', 'moviesarchives', 'xfiles', 'caprica', 'lost', 'okcareajobs', 'switchfoot', 'law', 'annemunition', 'asksteinsupporters', 'altnames', 'link', 'passengers', 'scio', 'liquiddemocracy', 'towerdefense', 'onetruehulk', 'phxjobs', 'anonymous', 'marvelfans', 'epiccardgame', 'humpthebundle', 'upvoted_test', 'lebowski', 'oceans', 'thereturned', 'internationallaw', 'thetotallyradshow', 'bigquery', 'needtobreathe', 'misfitstv', 'medford', 'daisyridley', 'northkoreanews', 'vonboomslang', 'animaniacs', 'everythingjadatoys', 'theexpanse', 'standupcomedy', 'twentyfour', 'mercwithamouth', 'moviesinthemaking', 'umcu', 'montclair', 'rationalcirclejerk', 'hawaiimaoli', 'discussionarchive', 'timferrissshow', 'storylineideas', 'sockheads', 'badmovies', 'projectara', 'longtakes', 'twodoorcinemaclub', 'themindyproject', 'breakingbad', 'truewalkingdead', 'projects', 'youranonnews', 'redbandsociety', 'howardstern', 'burnvictims', 'that70sshow', 'roosevelt', 'mwap', 'srdmythos', 'connectedbeer', 'theflophouse', 'televisionclub', 'vikingstv', 'isyam', 'chroniclesofelyria', 'jokedaily', 'mattandkim', 'dado3212', 'sharkweek', 'sexologyfaq', 'arresteddevelopment', 'citiesskylines_ja', 'bottomlinefirst', 'vermont', 'haltandcatchfire', 'participants', 'trueaustin', 'amadisasters', 'wnyc', 'sex_advice', 'techn9ne', 'iamarequests', 'mrmorwbc', 'badmath', 'billmurray', 'tomorrowchildrenps4', 'volunteer', 'breslin', 'nmbike', 'upvoted', 'baduk', 'rebeccaloops', 'beinghuman', 'homestarrunner', 'passionpit', 'deg', 'sonsofanarchy', 'mcjcirclejerk', 'cinemasobs', 'marriedatfirstsight', 'asburypark', 'southburlington', 'burnnotice', 'seasteading', 'ask_politics', 'television', 'themachineproject', 'eliricksanchez', 'geek', 'theroamingdead', 'beardtalk', 'greatcustomerservice', '365movies', 'hstrack', 'theaffair', 'onetruewiseau', 'death', 'doctorswithoutborders', 'basicliving', 'zombieboxes', 'nevernotfunny', 'truefilm', 'anonymousinaction', 'aboveandbeyond', 'adultswim', 'infamousrpcommunity', 'theroom', 'acappella', 'rickandmortypodcast', 'nativeamericans', 'sixfeetunder', 'glenwoodspringsco', 'circlejerkbreakingbad', 'dc_cinematic', 'elephants', 'brampton', 'pushshift', 'defaults', 'facultyofhorror', 'pixar', 'yms', 'uwmadison', 'cruisecrew', 'foundationsofcomedy14', 'billmckibben', 'oscars', 'filmmaker', 'gotham', 'lifeofgene', 'movieshowerthoughts', 'nostalgia', 'thebattler', 'impracticaljokers', 'themoreyouknobs', 'hiphopjapan', 'fargotv', 'bonezonepodcast', 'conan', 'comedy', 'punditfact', 'nypd', 'nonprofit', 'engagementrings', 'moombahton_og', 'suomipelit', 'offworld', '30rock', 'funnysigns', 'naughtyphonefun', 'okjobs', 'hub', 'utopiatv', 'dragonvale', 'kungfucinema', 'marilynmanson', 'japanesehiphop', 'roomonfire', 'cascadianpreppers', 'topreddit', '80shardcorepunk', 'goodreplyallepisodes', 'madisonwi', 'pavement', 'slasherfilms', 'blackjesus', 'trueblood', 'synek', 'bsg', 'seinfeld', 'pawnstars', 'rileyreid', 'risktuesday', 'onthebuses', 'doughboys', 'fuckchuck', 'brucelee', 'sochiproblems', 'droid', 'jcvd', 'the_oc', 'nra', 'wheredidisee', 'belmar', 'livefromnewyork', 'rochester', 'unm', 'thewho', 'kungfury', 'veteransagainstwar', 'movielists', 'redditmarketing', 'ritforsale', 'whatsinthisthing', 'srscinema', 'vikings_tvseries', 'pitchamovie', 'extracredits', 'siliconvalleyhbo', 'themakingof', 'askjohnsonsupporters', 'winchester', 'avengers', 'corporatecirclejerk', 'thewalkingdead', 'nathanforyou', 'bettereveryloop', 'jltieba', 'canadaprivacy', 'downtonabbey', 'cooties', 'toomanycooks', 'theleftovers', 'hi_res', 'aquajail', 'itshouldbeashow', 'pllcirclejerk', 'greygoo', 'montanajobs', 'norrkoping', 'depechemode', 'matrix', 'davidbazan', 'notrailer', 'prisonbreak', 'moviesuggestions', 'blackberners', 'axiomverge', 'stroke', 'weezer', 'rit', 'cky', 'nerdist', 'matthewg', 'web_jobs', 'dhmis', 'thomasnoir', 'biotechnology', 'wilfred', 'bosskeyproductions', 'orcsmustdie', 'horrorreviewed', 'dailydouble', 'timetravel', 'emergencycache', 'forgottenbookmarks', 'shittyrehabs', 'jayanddan', 'seajobs', 'trueseries', 'exmachina', 'fuckyouimashark', 'bingingwithbabish', 'colbertreport', 'thunderf00t', 'rifftrax', 'battlegroundeurope', 'superjail', 'reggiewatts', 'nightvale', 'dexter', 'blog', 'metalibrary', 'hittablefaces', 'konmari', 'porajmos', 'depressionchatroom', 'learnliberty', 'la_la_land', 'broadchurch', 'hashoah', 'movieideas', 'playdreadnought', 'fulltvshowsonyoutube', 'srotdpodcasts', 'magium', 'shittyscp', 'museums', 'lastofus', 'codcirclejerk', 'europeanparliament', 'zettaimovies', 'mysterylittleliars', 'legalnews', 'hivemind_app', 'adamruinseverything', 'westborobaptistchurch', 'moscow', 'lindybeige', 'gmu', 'linky_links', 'noobs2d', 'wisconsinbeer', 'derekbest', 'casualmovies', 'seriousdebates', 'nodapl', 'artconservation', 'redtaboo', 'cloverfield', 'souka', 'albuquerque', 'thingscutinhalfporn', 'cloververse', 'boisejobs', 'nerdfighters', 'papermarket', 'podcastclips', 'videoessay', 'kateesackhoff', 'thecontinuum', 'inspectorspacetime', 'bloodline', 'longtrail', 'socialpreneur', 'billhicks', 'caper', 'djwheat', 'untildawn', 'cowchop', 'as_a_german', 'weeds', 'andromeda321', 'sfbayjobs', 'nowyouseeit', 'soad', 'sparecv', 'stupidquestions', 'invisibleinc', 'shipyourexadildo', 'midessa', 'boxoffice', 'thingmaker', 'standup', 'ufyh', 'verminsupreme', 'cottoncandyblizzard', 'machinaesupremacy', 'twistedabcfamily', 'scorpion', 'movies', 'gameshow', 'sexology', 'thewall', 'sciencexpolitics', 'redlettermedia', 'urbandance', 'scandal', 'fuckreddit', 'jurassicpark', 'jamesbond', 'bones', 'macklemore', 'powerless', 'hip_hop', 'sr71', 'hannibaltv', 'joegoes', 'shittycosplay', 'mens_health', 'iama', 'thedarktowermovie', 'thearrivalmovie', 'solosexual', '10cloverfieldlane', 'timferriss', 'edify', 'holokauston', 'madmax', 'projectgreenlight', 'selfserve', 'blackmirrorirl', 'hsx', 'abandonedporn', 'onlinemovieplaylists', 'outsidelands', 'enoughsteinspam', 'classichorror', 'gaybroreads', 'svu', 'giantbomb', 'what_to_ask_gaben', 'marilyn_manson', 'burlington', 'rapbattles', 'newjersey', 'madmen', 'frenchforeignlegion', 'conspiracythreeie', 'horaceandpete', 'id4', 'debbyryan', 'ijustwatched', 'prettylittleliars', 'utilitarianism', 'nerdfighterstoryclub', 'cinemasins', 'bys', 'toynbee', 'clarencecartoon', 'horror', 'opendata', 'orphanblack', 'ogwalt', 'indiancountry', 'tbx', 'fearthewalkingdead', 'hhhrpg', 'googleatap', 'personofinterest', 'jennettemccurdy', 'entourage', 'bikingmad', 'theoryofreddit', 'amea', 'dceuleaks', 'thegoodwife', 'acdc', 'indiefilm', 'nerd_bait', 'moviefights', 'theglitchmob', 'castletv', 'declutter', 'gypsies', 'japanesereddit', 'znyder', 'topfilms', 'theforceawakens', 'buffalo', 'khazar_pride', 'whatintheheck', 'pllexchange', 'studioghibli', 'hungergames', 'shitpoop', 'lawschool', 'batesmotel', 'movieoftheday', 'elizabeth_marxs', 'standupworkshop', 'arealrumors', 'film', 'sesamestreet', 'shitpoetry', 'flairer', 'thepathhulu', 'brickleberry', 'backtothefuture', 'richlee', 'artbellmitd', 'skrolli', 'langbelta', 'dailydot', 'queenofthesouth', 'ajj', 'customt', 'europestartups', 'squishable', 'westerns', 'progaymers', 'bettercallsaul', 'citizenscience', 'lastmanonearthtv', 'whedon', 'peace', 'xfilesfiles', 'illumos', 'datasets', 'cybergrandchallenge', 'wehatemovies', 'californication', 'cartoons', 'cloverfeels', 'atlasgenius', 'kennyvsspenny', 'asianfilms', 'sanantoniojobs', 'redditsenddays', 'the_dennis', 'greatquotes', 'museumpros', 'ourwyominglife', 'dan', 'mtvchallenge', '3rdrockfromthesun', 'thewitness', 'horsemask', 'ouroverusedveins', 'patents', 'thenerdaverse', 'absolutistneoreaction', 'homeland', 'water', 'samesexparents', 'joplinmo', 'milkrunners', 'filmheads', 'thehateful8', 'alanresnick', 'nerdist_network', 'travelerstv', 'irelandpodcasting', 'irelandradio', 'mst3k', 'broadcity', 'wellwaterdrinkers', 'nixon', 'box5', 'lovablecontrarian', 'stevenseagalfacts', 'stanleykubrick', 'childrenfallingover', 'engineers', 'indianajones', 'disabled', 'legaled', 'pleaseblacklistme', 'etcshow', 'shameless', 'classtv', 'misiones'}\n",
      "Community 4: Size = 480\n",
      "   Nodes: {'analfaces', 'bodyshots', 'cheekyasian', 'clothesripping', 'monster_cocks', 'japanpornstars', 'asiannsfw', 'vgb', 'coveredincum', 'asiandeepthroat', 'collegeamateurs', 'gonewildscrubs', 'strapon', 'beggingforit', 'sluttystrangers', 'girlswithglasses', 'boggeyy', 'darkangels', 'nsfw_html5', 'asianhotties', 'porn_stars', 'amateurporn', 'thickloads', 'bustyasians', 'thick', 'roughanal', 'latinas', 'after_the_shot', 'strokeshaftcupballs', 'feet', 'legsup', 'camsluts', 'homemadeporn', 'redheadsinyogapants', 'stacked', 'theredditpolice', 'orgasmcontrol', 'immodest', 'luckycameraman', 'juicyasians', 'oilporn', 'frprn', 'alextanner', 'tipofmypenis', 'cumsluts', 'ginger', 'squirt', 'sohotithurts', 'glorp', 'cfcm', 'bondage', 'tinytits', 'churchofthebbc', 'vomitporn', 'bestoferoshare', 'indianiggirls', 'pantiestotheside', 'femdomgonewild', 'porncritiques', 'tightshirts', 'facefuck', 'nsfw_korea', 'sarah_xxx', 'degradingholes', 'blackmailed', 'gwnerdy', 'miela', 'roieye', 'blowjobgifs', 'loserstrips', 'youtubetitties', 'nsfw_plowcam', 'spreading', 'weekendmvp', 'facialfun', 'tomptalk', 'makeupfetish', 'porngifsbybot', 'rararav1', 'edging', 'bustypetite', 'asiandownblouse', 'porn_flicks', 'wildchicks', 'anal', 'gonewildsmiles', 'asianporn', 'lickingdick', 'cumfetish', 'therearcameltoe', 'girlsshowering', 'hugeboobshardcore', 'girlsdoporn', 'tipofmyclit', 'footprint', 'lesbians', 'porn_gifs', 'festivalsluts', 'spitroast', 'hairyarmpits', 'facesitting', 'nsfwhardcore', 'porngifs', 'fantasyisland', 'shorthairchicks', 'gracelesssubmission', 'pee', 'reddittimelords', 'camwhores', 'cuntmart', 'leggingsgonewild', 'asianhottiesvideos', 'girlskissing', 'fap2this', 'ggonewild', 'sfwporngifs', 'suckingherownnipples', 'fucklicking', 'twingirls', 'squirting', 'ideasforhtm', 'booty', 'whenitgoesin', 'backroomcastingcouch', 'ajapplegate', '4kporn', 'ballsdeepandcumming', 'cumonglasses', 'bondageblowjobs', 'before_after_cumsluts', 'blacktears', 'orgasms', 'titsassandnoclass', 'notadildo', 'painal', 'nsfw_gifs', 'nsfw_gif', 'sexinfrontofothers', 'watchitfortheplot', 'xsmallgirls', 'straponcumshot', 'augustames', 'orgasm_gif_squirt', 'lordosis', 'youboobers', 'asiansgonewild', 'girlsinschooluniforms', 'girlslovecum', 'sexy_ed', 'pmv', 'creampiegangbangs', 'cumhaters', 'ropebondage', 'funwithfriends', 'gwpublic', 'tongue', 'suckingitdry', 'qvctitties', 'groupofnudegirls', 'emmeffemm', 'janicegriffith', '18_19', 'mugshotmorris', 'bois', 'xev_bellringer', 'tipsdonttouch', 'pizzadare', 'onoff', 'asianhottiesgifs', 'femdom_gifs', 'strugglefucking', 'intheass', 'faponher', 'chubby', 'indianteens', 'fingerinasshole', 'girlsfinishingthejob', 'girlshumpingthings', 'realthreesomes', 'girlscuddling', 'bubbling', 'dreamjobs', 'atwom', 'postorgasm', 'asianandlovingit', 'pornmusicvids', 'courtneyandabby', 'mfmsizecomparison', 'masterofanal', 'freeuse', 'officialnyldy', 'squatfuck', 'creampie_porn', 'choking', 'fitgirls', 'realasians', 'burstingout', 'nsfw_snapchat', 'solesandholes', 'forcedorgasms', 'oversharing', 'amateur', 'top10pornos_weekly', 'asianamericanporn', 'highresnsfw', 'runwaynudity', 'girlsinyogapants', 'mouthwideopen', 'bdsmnsfw', 'save', 'humiliation', 'butterface', 'her1stbbc', 'truejesuschurch', 'dropem', 'buttplug', 'dominated', 'pornstars', 'saveporn', 'curvy', 'boobbounce', 'passionyz', 'exxxtras', 'onedickmanychicks', '50fpsporn', 'cumcoveredfucking', 'scissoring', 'findmyporn', 'toobig', 'nsfwvideos', 'oily', 'shitgonewildsays', 'gftjcreampie', 'onherknees', 'blackchickswhitedicks', 'girlsinlacefishnets', 'cfnm', 'fuckingmachines', 'saucefornsfwads', 'deepthroat', 'natalialobbo', 'meganrain', 'pronebone', 'hot_women_gifs', 'kendra_sunderland', 'palegirls', 'throatfucking', 'agegapsex', 'enf', 'assholebehindthong', 'doppelbangher', 'ruinedorgasms', 'motherdaughter', 'hdsources', 'publicupskirts', 'orgasmiccontractions', 'cunnilingus', 'trollxporn', 'faymougles', 'highheelsnsfw', 'vagina', 'timelessgazongas', 'thirdleg', 'numbering', 'gag_spit', 'mindfuckporn', 'whoregasm', 'surprise_sex', 'quiver', 'cumshots', 'groupsex', 'fappitt', 'askredditnsfw', 'betterfap', 'bimboxxx', 'pornsaver', 'facedownassup', 'cumonlips', 'nudes', 'ebony', 'porn', 'kateeowen', 'pantyslide', 'jayerose', 'denialgames', 'grool', 'cfnmfetish', 'bdsm_gifs', 'impresssedbycum', 'o_faces', 'porninfifteenseconds', 'pushherhead', 'workit', 'drunkgirls', 'lesdom', 'amateurgirlsbigcocks', 'damngoodinterracial', 'theforniphiliac', 'xsome', 'laineybae', 'straightgirlsplaying', 'thejt0wn1', 'lipsthatgrip', 'ass_grab', 'vocalsex', 'realgirls', 'blowing_braces', 'alexisfawx', 'rearpussy', 'mypornvideos', 'showing_off_her_ass', 'kazaaporn', 'madelynmarie', 'suctiondildos', 'spitroasted', 'voluptuous', 'boobies', 'nsfwfunny', 'nsfwcosplay', 'yayamateurs', 'bbcsluts', 'lucypinder', 'flatchests', 'brasgonewild', 'holdthemoan', 'hotdogging', 'redheads', 'rimjob', 'swimsuitsex', 'oralcreampie', 'fisting', 'onoffcollages', 'cumonclothes', 'watersports', 'wtsstadamit', 'wtf_porn_gifs', 'happyembarrassedgirls', 'isthatcum', 'tushy_network', 'angelawhite', 'interracial_porn', 'dumpstersluts', 'specialerotic', 'sloppyblowjobvideos', 'abuseporn2', 'cumagain', 'filthygirls', 'blowjobs', 'potus8073', 'homemadexxx', 'castingcall', 'simps', 'takeitoff', 'xxx_animated_gifs', 'trashyboners', 'asian_gifs', 'massageporn', 'collegeinitiation', 'pornmusicvideos', 'unashamed', 'complexionexcellence', 'doublepenetration', 'indianporn', 'hotblackchicks', 'womenofcolor', 'waterboobs', 'nsfw', 'nsfw_japan', 'gifsofremoval', 'realitydicks', 'ass', 'celebritypornclones', 'khayapeake', 'womenofcolorxxx', 'l41999', 'chickflixxx', 'madisondeck', 'bondagegifs_highres', 'stripgirls', 'breastsucking', 'rubbingherpussy', 'cutemodeslutmode', 'incest_gifs', 'handjobs', 'petite', 'weirdfuckersinashed', 'omgbeckylookathiscock', 'handjob', 'breastenvy', 'nsfw2048', 'whiteandthick', 'boburnham', 'asiancuties', 'redheadgifs', 'proneboneanal', 'derpporn', 'fuxtaposition', 'baileyjay', 'gangbang', 'outercourse', 'interraciallesbian', 'ecg_network', 'jigglefuck', 'sabrina_nichole', 'brunette', 'buttjobs', 'boltedontits', 'anarkitty', 'repressedgonewild', 'skirtriding', 'b_cups', 'bustybabes', 'borednignored', 'hereinmycar', 'upvotedbecauseboobs', 'passionx', 'hipcleavage', 'tittydrop', 'pornid', 'suckwithhercock', 'gettingherselfoff', 'femaleorgasmdenial', 'legalteens', 'pornstarwannabe', 'b00b3d', 'rmsfhj', 'slutjustice', 'nsfw_videos', 'adorableporn', 'motiontrackedporn', 'boobgifs', 'sexyfrex', 'upset', 'incestgifs', '60fpsporn', 'tightdresses', 'ashe_maree', 'nsfw411', 'girlswhoride', 'biggerthanyouthought', 'yogapants', 'chillingeffects', 'dirtysmall', 'myult1mateischarging', 'jilling', 'celebsbr', 'sexfight', 'collegesluts', 'businessbabes', 'onlytightteenpussy', 'giannamichaels', 'pornvids', 'nsfw2', 'blondeass', 'asiancumsluts', 'crossedlegs', 'havoc_bot', 'manhandled', 'abigailejohnson', 'blowjob', 'full_nelson', 'eyerollorgasm', 'serina', 'milf', 'flexigirls', 'tits', 'cumonboobs', 'brittneywhite', 'gonewildtube', 'innie', 'cuckquean', 'ladyinred', 'shelikesitrough', 'asshole', 'indianbabes', 'asianol', 'pov', 'machine_love', 'dontyouknowwhoiam', 'onehotonenot'}\n",
      "Community 5: Size = 398\n",
      "   Nodes: {'arkansaslibertarians', 'oregonlibertarians', 'rightwinguk', 'hbd', 'mhocprogress', 'freeculture', 'newcastleupontyne', 'moxun', 'millbanktower', 'youthrights', 'atheistconservative', 'dorset', 'worcester', 'synthetic_economics', 'austrian_econ', 'miltonkeynes', 'agriculture', 'cheshire', 'readingfestival', 'theirishleft', 'uklgbt', 'chester', 'needaplacetorant', 'pansexual', 'piratepartyuk', 'atheist_ancaps', 'eurowatch', 'allwomen', 'meup', 'anarchyintheuk', 'carlisle', 'bromley', 'mhocsatire', 'surrey', 'bourbondemocrat', 'socialistmusic', 'youthandgovernment', 'uspirateparty', 'uob', 'bisexualuk', 'mhocendeavour', 'antiglobalism', 'leftist', 'norwich', 'democracy', 'modelbuzzfeeduk', 'reading', 'ukdefence', 'project420', 'louth', 'gloucestershire', 'universityofyork', 'nonviolence', 'nightdriving', 'austrian', 'cryptoanarchy', 'farright', 'mhocwmidsriot', 'lufbra', '4thinternational', 'cornwall', 'cambridge_uni', 'sustainability', 'socialistprogrammers', 'politicswales', 'conservativediscourse', 'uon', 'trump16', 'jackwilfred', 'cannabisreform', 'mhoc_endeavour', 'trotskyism', 'stand', 'ecosocialism', 'corbyn4leader', 'leicester', 'neoprogs', 'netpolitics', 'kentuni', 'newjerseylibertarians', 'mhocsi', 'moderaterepublican', 'enochpowell', 'reinstatearticle8', 'uk_news', 'wdtctdty', 'cumbria', 'classical_liberal', 'plymouth', 'exeter', 'encryption', 'internet', 'ethicalhacking', 'militantancaps', 'pirateradio', 'mhocwagers', 'britainstaysin', 'bath', 'funk', 'mhocspark', 'pirateparty', 'transgenderteens', 'debatemonarchy', 'mhoc', 'romney', 'canadafree', 'freedomainradio', 'chesterfielduk', 'croydon', 'libertarian_history', 'dumfriesandgalloway', 'monarchy', 'reading_berkshire', 'veganuk', 'aberystwyth', 'lgbtpolitics', 'westsussex', 'mhocspeakerelecver', 'freepolitics', 'austinpetersen', 'canterbury', 'socialistgaming', 'uos', 'glasgowuni', 'minarchism', 'objectivists', 'johnmcafee2016', 'georgialibertarians', 'northamptonians', 'europeanfederalists', 'salforduni', 'liverpool', 'ecofeminism', 'mhocmp', 'ukgaming', 'recycling', 'wiltshire', 'ayn_rand', 'historywales', 'promote', 'merthyrtydfil', 'watford', 'liberalism', 'mhocpress', 'mhocmirror', 'uk_politics', 'thenewright', 'immigrationreform', 'politicsdebate', 'historicalmhoc', 'mhocendeavourbreaking', 'swindon', 'aberdeen', 'calibertarians', 'swansea', 'cymru', 'bestofconservative', 'palibertarian', 'lgbtrees', '350', 'donaldtrump', 'new_movement', 'southwales', 'monarchist', 'ranmelectionverify', 'politicsuk', 'louisianalibertarians', 'rutland', 'mbbc', 'traditionalist', 'cleethorpes', 'orkney', 'sunlight', 'futuristparty', 'cdnconservative', 'infinitechan', 'rightist', 'progressiveactivism', 'devonuk', 'fairtax', 'pirate', 'utopia', 'universityofwarwick', 'democracyneedsfixing', 'europeans', 'enviroaction', 'autonomia', 'britishcommunists', 'ipswichuk', 'libertarianeurope', 'kcl', 'r3volution', 'tennesseelibertarians', 'idontlikegovernment', 'stoners', 'environmental_policy', 'anti_left', 'ecology', 'greencanada', 'votingreform', 'wigan', 'americanpirateparty', 'anarchobjectivism', 'postnationalist', 'truthinpolitics', 'openuniversity', 'mbbcnews', 'submedia', 'northatlantictreaty', 'thei', 'tpp', 'labourcirclejerk', 'kingstonu', 'shetland', 'northernireland', 'cheltenham', 'pirates', 'wtwfotmjajtratcab', 'paleoconservative', 'celticunion', 'mhocliberalpress', 'trueanarchocapitalism', 'electionreform', 'mhoccmtevote', 'communism_', 'lesbients', 'lancashire', 'teaparty', 'tedcruzforpresident', 'dundee', 'modelsupremecourt', 'whitenationalism', 'collegelibertarians', 'universityofsussex', 'ukforeu', 'midlands', 'tory', 'modelrussiagov', 'yro', 'mhoccirclejerk', 'womensrights', 'goldsmiths', 'essexuni', 'lowcar', 'bisexualteens', 'tedcruz', 'chippenham', 'socialliberalism', 'mhocge3verify', 'newportsw', 'gbpol', 'isleofwight', 'libertymovement', 'netneutrality', 'wales', 'inverness', 'uea', 'portsmouth', 'ucl', 'mhocedm', 'peterhitchens', 'brighton', 'virtualcommunism', 'nationalist', 'duffield', 'coventry', 'modelebay', 'lincolnshire', 'mhocmeta', 'australiangreens', 'nijobs', 'politicaldebate', 'universityofaberdeen', 'infowarsdotcom', 'forestry', 'worksop', 'shittypolitics', 'peterboroughuk', 'cssquipton', 'mhocpi', 'mhocstrangersbar', 'canadian_socialism', 'freebiesuk', 'organicgardening', 'descentintotyranny', 'eurosceptics', 'rmun', 'mhocliterature', 'nottinghamshire', 'youtubenw', 'cyberfeminism', 'mhoirarasanuachtarain', 'piratepartyofcanada', 'envirotech', 'the_hofer', 'unionisminulster', 'londonstudents', 'bittorrent', 'lpfl', 'shropshire', 'colonialmhoc', 'treesactivism', 'pragmatism', 'cybersecurity', 'piratebay', 'paul', 'grimsby', 'piratenpartij', 'somaliland', 'libertarianparty', 'paleolibertarian', 'british', 'thewarondrugs', 'libertariansocialism', 'technostism', 'hanshermannhoppe', 'white_pride', 'modelfirstthings', 'england', 'corruption', 'trueconservative', 'libreprojects', 'patriotism', 'youngatheists', 'pinochet', 'anarchists', 'alabamalibertarians', 'mbbcamerica', 'nevadalibertarians', 'ukconservative', 'cyberunions', 'donald_for_president', 'virginialibertarians', 'kansaslibertarians', 'rpac', 'yiannopoulos', 'tea_party', 'conservatism', 'nclibertarians', 'economicdemocracy', 'swanseauni', 'windsor', 'brunel', 'ainothuman', 'stafford', 'nationalism', 'ukgreens', 'greenparty', 'victorianmhoc', 'essex', 'cambridge', 'snp', 'mhocpatriotpress', 'filesharing', 'southampton', 'primecoin', 'labor', 'manchester_uni', 'mstormont', 'cardiff', 'imperial', 'bristoltrees', 'basicincomeuk', 'infanticide', 'labourpartyuk', 'libertariannews', 'shitludditessay', 'bournemouth', 'daventry', 'liberal_atheism', 'governmentoppression', 'eastkilbride', 'mbbcvoice', 'manchester', 'pol', 'nylibertarians', 'freespeech', 'tax_evasion_is_ok', 'piratenpartei', 'ecoreddit', 'britain', 'badgovnofreedom', 'conservativesuk', 'enthouse', 'rpa', 'porthcawl', 'rotterdam', 'canadianfuturistparty', 'tories', 'catholicpolitics', 'neweconomy', 'corby', 'opposecdb', 'nottingham', 'britpolitics', 'younglabour', 'cryptoubi', 'oxford'}\n"
     ]
    }
   ],
   "source": [
    "# Louvain algorithm is more time efficient thant Girvan Newman\n",
    "result = nx.community.louvain_communities(mGraph, weight = 'LINK_SENTIMENT')\n",
    "\n",
    "community_sizes = [(community, len(community)) for community in result]\n",
    "\n",
    "# Sort communities by size in descending order\n",
    "sorted_communities = sorted(community_sizes, key=lambda x: x[1], reverse=True)\n",
    "\n",
    "log(\"Top 5 communities by size identified by Louvain method:\")\n",
    "# Print the 5 largest communities along with their sizes\n",
    "for i, (community, size) in enumerate(sorted_communities[:5], start=1):\n",
    "    print(f\"Community {i}: Size = {size}\")\n",
    "    print(f\"   Nodes: {community}\")"
   ]
  },
  {
   "cell_type": "markdown",
   "metadata": {},
   "source": [
    "## Visualisations\n",
    "Visualisations help understanding how a network is situated."
   ]
  },
  {
   "cell_type": "code",
   "execution_count": 20,
   "metadata": {},
   "outputs": [
    {
     "ename": "KeyboardInterrupt",
     "evalue": "",
     "output_type": "error",
     "traceback": [
      "\u001b[1;31m---------------------------------------------------------------------------\u001b[0m",
      "\u001b[1;31mKeyboardInterrupt\u001b[0m                         Traceback (most recent call last)",
      "\u001b[1;32mc:\\Users\\marte\\Development\\school\\social_network_analysis\\main.ipynb Cell 26\u001b[0m line \u001b[0;36m1\n\u001b[1;32m----> <a href='vscode-notebook-cell:/c%3A/Users/marte/Development/school/social_network_analysis/main.ipynb#X35sZmlsZQ%3D%3D?line=0'>1</a>\u001b[0m pos \u001b[39m=\u001b[39m nx\u001b[39m.\u001b[39;49mspring_layout(mGraph)  \u001b[39m# Layout algorithm, e.g., spring_layout\u001b[39;00m\n\u001b[0;32m      <a href='vscode-notebook-cell:/c%3A/Users/marte/Development/school/social_network_analysis/main.ipynb#X35sZmlsZQ%3D%3D?line=1'>2</a>\u001b[0m node_colors \u001b[39m=\u001b[39m [node[\u001b[39m1\u001b[39m][\u001b[39m'\u001b[39m\u001b[39mcolor\u001b[39m\u001b[39m'\u001b[39m] \u001b[39mfor\u001b[39;00m node \u001b[39min\u001b[39;00m mGraph\u001b[39m.\u001b[39mnodes(data\u001b[39m=\u001b[39m\u001b[39mTrue\u001b[39;00m)]\n\u001b[0;32m      <a href='vscode-notebook-cell:/c%3A/Users/marte/Development/school/social_network_analysis/main.ipynb#X35sZmlsZQ%3D%3D?line=3'>4</a>\u001b[0m nx\u001b[39m.\u001b[39mdraw(G, pos, with_labels\u001b[39m=\u001b[39m\u001b[39mTrue\u001b[39;00m, node_size\u001b[39m=\u001b[39m\u001b[39m500\u001b[39m, node_color\u001b[39m=\u001b[39mnode_colors)\n",
      "File \u001b[1;32m<class 'networkx.utils.decorators.argmap'> compilation 4:4\u001b[0m, in \u001b[0;36margmap_spring_layout_1\u001b[1;34m(G, k, pos, fixed, iterations, threshold, weight, scale, center, dim, seed)\u001b[0m\n\u001b[0;32m      2\u001b[0m \u001b[39mimport\u001b[39;00m \u001b[39mcollections\u001b[39;00m\n\u001b[0;32m      3\u001b[0m \u001b[39mimport\u001b[39;00m \u001b[39mgzip\u001b[39;00m\n\u001b[1;32m----> 4\u001b[0m \u001b[39mimport\u001b[39;00m \u001b[39minspect\u001b[39;00m\n\u001b[0;32m      5\u001b[0m \u001b[39mimport\u001b[39;00m \u001b[39mitertools\u001b[39;00m\n\u001b[0;32m      6\u001b[0m \u001b[39mimport\u001b[39;00m \u001b[39mre\u001b[39;00m\n",
      "File \u001b[1;32mc:\\Users\\marte\\AppData\\Local\\Programs\\Python\\Python311\\Lib\\site-packages\\networkx\\drawing\\layout.py:482\u001b[0m, in \u001b[0;36mspring_layout\u001b[1;34m(G, k, pos, fixed, iterations, threshold, weight, scale, center, dim, seed)\u001b[0m\n\u001b[0;32m    480\u001b[0m         nnodes, _ \u001b[39m=\u001b[39m A\u001b[39m.\u001b[39mshape\n\u001b[0;32m    481\u001b[0m         k \u001b[39m=\u001b[39m dom_size \u001b[39m/\u001b[39m np\u001b[39m.\u001b[39msqrt(nnodes)\n\u001b[1;32m--> 482\u001b[0m     pos \u001b[39m=\u001b[39m _sparse_fruchterman_reingold(\n\u001b[0;32m    483\u001b[0m         A, k, pos_arr, fixed, iterations, threshold, dim, seed\n\u001b[0;32m    484\u001b[0m     )\n\u001b[0;32m    485\u001b[0m \u001b[39mexcept\u001b[39;00m \u001b[39mValueError\u001b[39;00m:\n\u001b[0;32m    486\u001b[0m     A \u001b[39m=\u001b[39m nx\u001b[39m.\u001b[39mto_numpy_array(G, weight\u001b[39m=\u001b[39mweight)\n",
      "File \u001b[1;32m<class 'networkx.utils.decorators.argmap'> compilation 8:4\u001b[0m, in \u001b[0;36margmap__sparse_fruchterman_reingold_5\u001b[1;34m(A, k, pos, fixed, iterations, threshold, dim, seed)\u001b[0m\n\u001b[0;32m      2\u001b[0m \u001b[39mimport\u001b[39;00m \u001b[39mcollections\u001b[39;00m\n\u001b[0;32m      3\u001b[0m \u001b[39mimport\u001b[39;00m \u001b[39mgzip\u001b[39;00m\n\u001b[1;32m----> 4\u001b[0m \u001b[39mimport\u001b[39;00m \u001b[39minspect\u001b[39;00m\n\u001b[0;32m      5\u001b[0m \u001b[39mimport\u001b[39;00m \u001b[39mitertools\u001b[39;00m\n\u001b[0;32m      6\u001b[0m \u001b[39mimport\u001b[39;00m \u001b[39mre\u001b[39;00m\n",
      "File \u001b[1;32mc:\\Users\\marte\\AppData\\Local\\Programs\\Python\\Python311\\Lib\\site-packages\\networkx\\drawing\\layout.py:618\u001b[0m, in \u001b[0;36m_sparse_fruchterman_reingold\u001b[1;34m(A, k, pos, fixed, iterations, threshold, dim, seed)\u001b[0m\n\u001b[0;32m    616\u001b[0m delta \u001b[39m=\u001b[39m (pos[i] \u001b[39m-\u001b[39m pos)\u001b[39m.\u001b[39mT\n\u001b[0;32m    617\u001b[0m \u001b[39m# distance between points\u001b[39;00m\n\u001b[1;32m--> 618\u001b[0m distance \u001b[39m=\u001b[39m np\u001b[39m.\u001b[39msqrt((delta\u001b[39m*\u001b[39;49m\u001b[39m*\u001b[39;49m\u001b[39m2\u001b[39;49m)\u001b[39m.\u001b[39;49msum(axis\u001b[39m=\u001b[39;49m\u001b[39m0\u001b[39;49m))\n\u001b[0;32m    619\u001b[0m \u001b[39m# enforce minimum distance of 0.01\u001b[39;00m\n\u001b[0;32m    620\u001b[0m distance \u001b[39m=\u001b[39m np\u001b[39m.\u001b[39mwhere(distance \u001b[39m<\u001b[39m \u001b[39m0.01\u001b[39m, \u001b[39m0.01\u001b[39m, distance)\n",
      "File \u001b[1;32mc:\\Users\\marte\\AppData\\Local\\Programs\\Python\\Python311\\Lib\\site-packages\\numpy\\core\\_methods.py:47\u001b[0m, in \u001b[0;36m_sum\u001b[1;34m(a, axis, dtype, out, keepdims, initial, where)\u001b[0m\n\u001b[0;32m     43\u001b[0m \u001b[39mdef\u001b[39;00m \u001b[39m_amin\u001b[39m(a, axis\u001b[39m=\u001b[39m\u001b[39mNone\u001b[39;00m, out\u001b[39m=\u001b[39m\u001b[39mNone\u001b[39;00m, keepdims\u001b[39m=\u001b[39m\u001b[39mFalse\u001b[39;00m,\n\u001b[0;32m     44\u001b[0m           initial\u001b[39m=\u001b[39m_NoValue, where\u001b[39m=\u001b[39m\u001b[39mTrue\u001b[39;00m):\n\u001b[0;32m     45\u001b[0m     \u001b[39mreturn\u001b[39;00m umr_minimum(a, axis, \u001b[39mNone\u001b[39;00m, out, keepdims, initial, where)\n\u001b[1;32m---> 47\u001b[0m \u001b[39mdef\u001b[39;00m \u001b[39m_sum\u001b[39m(a, axis\u001b[39m=\u001b[39m\u001b[39mNone\u001b[39;00m, dtype\u001b[39m=\u001b[39m\u001b[39mNone\u001b[39;00m, out\u001b[39m=\u001b[39m\u001b[39mNone\u001b[39;00m, keepdims\u001b[39m=\u001b[39m\u001b[39mFalse\u001b[39;00m,\n\u001b[0;32m     48\u001b[0m          initial\u001b[39m=\u001b[39m_NoValue, where\u001b[39m=\u001b[39m\u001b[39mTrue\u001b[39;00m):\n\u001b[0;32m     49\u001b[0m     \u001b[39mreturn\u001b[39;00m umr_sum(a, axis, dtype, out, keepdims, initial, where)\n\u001b[0;32m     51\u001b[0m \u001b[39mdef\u001b[39;00m \u001b[39m_prod\u001b[39m(a, axis\u001b[39m=\u001b[39m\u001b[39mNone\u001b[39;00m, dtype\u001b[39m=\u001b[39m\u001b[39mNone\u001b[39;00m, out\u001b[39m=\u001b[39m\u001b[39mNone\u001b[39;00m, keepdims\u001b[39m=\u001b[39m\u001b[39mFalse\u001b[39;00m,\n\u001b[0;32m     52\u001b[0m           initial\u001b[39m=\u001b[39m_NoValue, where\u001b[39m=\u001b[39m\u001b[39mTrue\u001b[39;00m):\n",
      "\u001b[1;31mKeyboardInterrupt\u001b[0m: "
     ]
    }
   ],
   "source": [
    "pos = nx.spring_layout(mGraph)  # Layout algorithm, e.g., spring_layout\n",
    "node_colors = [node[1]['color'] for node in mGraph.nodes(data=True)]\n",
    "\n",
    "nx.draw(G, pos, with_labels=True, node_size=500, node_color=node_colors)\n",
    "plt.show()"
   ]
  }
 ],
 "metadata": {
  "kernelspec": {
   "display_name": "Python 3",
   "language": "python",
   "name": "python3"
  },
  "language_info": {
   "codemirror_mode": {
    "name": "ipython",
    "version": 3
   },
   "file_extension": ".py",
   "mimetype": "text/x-python",
   "name": "python",
   "nbconvert_exporter": "python",
   "pygments_lexer": "ipython3",
   "version": "3.11.1"
  }
 },
 "nbformat": 4,
 "nbformat_minor": 2
}
